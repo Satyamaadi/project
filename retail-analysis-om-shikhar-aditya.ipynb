{
 "cells": [
  {
   "cell_type": "code",
   "execution_count": 1,
   "id": "9eb1172b",
   "metadata": {
    "_cell_guid": "b1076dfc-b9ad-4769-8c92-a6c4dae69d19",
    "_uuid": "8f2839f25d086af736a60e9eeb907d3b93b6e0e5",
    "execution": {
     "iopub.execute_input": "2022-12-20T17:56:11.894772Z",
     "iopub.status.busy": "2022-12-20T17:56:11.893806Z",
     "iopub.status.idle": "2022-12-20T17:56:11.920901Z",
     "shell.execute_reply": "2022-12-20T17:56:11.919646Z"
    },
    "papermill": {
     "duration": 0.053224,
     "end_time": "2022-12-20T17:56:11.924462",
     "exception": false,
     "start_time": "2022-12-20T17:56:11.871238",
     "status": "completed"
    },
    "tags": []
   },
   "outputs": [
    {
     "name": "stdout",
     "output_type": "stream",
     "text": [
      "/kaggle/input/retail-dataset/stores data-set.csv\n",
      "/kaggle/input/retail-dataset/Features data set.csv\n",
      "/kaggle/input/retail-dataset/sales data-set.csv\n",
      "/kaggle/input/retaildataset/stores data-set.csv\n",
      "/kaggle/input/retaildataset/Features data set.csv\n",
      "/kaggle/input/retaildataset/sales data-set.csv\n"
     ]
    }
   ],
   "source": [
    "# This Python 3 environment comes with many helpful analytics libraries installed\n",
    "# It is defined by the kaggle/python Docker image: https://github.com/kaggle/docker-python\n",
    "# For example, here's several helpful packages to load\n",
    "\n",
    "import numpy as np # linear algebra\n",
    "import pandas as pd # data processing, CSV file I/O (e.g. pd.read_csv)\n",
    "\n",
    "# Input data files are available in the read-only \"../input/\" directory\n",
    "# For example, running this (by clicking run or pressing Shift+Enter) will list all files under the input directory\n",
    "\n",
    "import os\n",
    "for dirname, _, filenames in os.walk('/kaggle/input'):\n",
    "    for filename in filenames:\n",
    "        print(os.path.join(dirname, filename))\n",
    "\n",
    "# You can write up to 20GB to the current directory (/kaggle/working/) that gets preserved as output when you create a version using \"Save & Run All\" \n",
    "# You can also write temporary files to /kaggle/temp/, but they won't be saved outside of the current session"
   ]
  },
  {
   "cell_type": "markdown",
   "id": "26cfb2be",
   "metadata": {
    "papermill": {
     "duration": 0.017806,
     "end_time": "2022-12-20T17:56:11.961223",
     "exception": false,
     "start_time": "2022-12-20T17:56:11.943417",
     "status": "completed"
    },
    "tags": []
   },
   "source": [
    "**Store data description .\n",
    "> To be done by Tiwari N.**"
   ]
  },
  {
   "cell_type": "code",
   "execution_count": 2,
   "id": "ab16cbe2",
   "metadata": {
    "execution": {
     "iopub.execute_input": "2022-12-20T17:56:11.999036Z",
     "iopub.status.busy": "2022-12-20T17:56:11.998446Z",
     "iopub.status.idle": "2022-12-20T17:56:12.460741Z",
     "shell.execute_reply": "2022-12-20T17:56:12.459477Z"
    },
    "papermill": {
     "duration": 0.485372,
     "end_time": "2022-12-20T17:56:12.464118",
     "exception": false,
     "start_time": "2022-12-20T17:56:11.978746",
     "status": "completed"
    },
    "tags": []
   },
   "outputs": [],
   "source": [
    "#Features data\n",
    "store_df = pd.read_csv('/kaggle/input/retaildataset/sales data-set.csv')"
   ]
  },
  {
   "cell_type": "code",
   "execution_count": 3,
   "id": "5d5e5761",
   "metadata": {
    "execution": {
     "iopub.execute_input": "2022-12-20T17:56:12.501527Z",
     "iopub.status.busy": "2022-12-20T17:56:12.500977Z",
     "iopub.status.idle": "2022-12-20T17:56:12.559390Z",
     "shell.execute_reply": "2022-12-20T17:56:12.557994Z"
    },
    "papermill": {
     "duration": 0.083526,
     "end_time": "2022-12-20T17:56:12.564778",
     "exception": false,
     "start_time": "2022-12-20T17:56:12.481252",
     "status": "completed"
    },
    "tags": []
   },
   "outputs": [
    {
     "name": "stdout",
     "output_type": "stream",
     "text": [
      "<class 'pandas.core.frame.DataFrame'>\n",
      "RangeIndex: 421570 entries, 0 to 421569\n",
      "Data columns (total 5 columns):\n",
      " #   Column        Non-Null Count   Dtype  \n",
      "---  ------        --------------   -----  \n",
      " 0   Store         421570 non-null  int64  \n",
      " 1   Dept          421570 non-null  int64  \n",
      " 2   Date          421570 non-null  object \n",
      " 3   Weekly_Sales  421570 non-null  float64\n",
      " 4   IsHoliday     421570 non-null  bool   \n",
      "dtypes: bool(1), float64(1), int64(2), object(1)\n",
      "memory usage: 13.3+ MB\n"
     ]
    }
   ],
   "source": [
    "store_df.info()"
   ]
  },
  {
   "cell_type": "code",
   "execution_count": 4,
   "id": "e7c59cec",
   "metadata": {
    "execution": {
     "iopub.execute_input": "2022-12-20T17:56:12.603280Z",
     "iopub.status.busy": "2022-12-20T17:56:12.602317Z",
     "iopub.status.idle": "2022-12-20T17:56:12.636577Z",
     "shell.execute_reply": "2022-12-20T17:56:12.634969Z"
    },
    "papermill": {
     "duration": 0.057596,
     "end_time": "2022-12-20T17:56:12.639902",
     "exception": false,
     "start_time": "2022-12-20T17:56:12.582306",
     "status": "completed"
    },
    "tags": []
   },
   "outputs": [
    {
     "data": {
      "text/html": [
       "<div>\n",
       "<style scoped>\n",
       "    .dataframe tbody tr th:only-of-type {\n",
       "        vertical-align: middle;\n",
       "    }\n",
       "\n",
       "    .dataframe tbody tr th {\n",
       "        vertical-align: top;\n",
       "    }\n",
       "\n",
       "    .dataframe thead th {\n",
       "        text-align: right;\n",
       "    }\n",
       "</style>\n",
       "<table border=\"1\" class=\"dataframe\">\n",
       "  <thead>\n",
       "    <tr style=\"text-align: right;\">\n",
       "      <th></th>\n",
       "      <th>Store</th>\n",
       "      <th>Dept</th>\n",
       "      <th>Date</th>\n",
       "      <th>Weekly_Sales</th>\n",
       "      <th>IsHoliday</th>\n",
       "    </tr>\n",
       "  </thead>\n",
       "  <tbody>\n",
       "    <tr>\n",
       "      <th>0</th>\n",
       "      <td>1</td>\n",
       "      <td>1</td>\n",
       "      <td>05/02/2010</td>\n",
       "      <td>24924.50</td>\n",
       "      <td>False</td>\n",
       "    </tr>\n",
       "    <tr>\n",
       "      <th>1</th>\n",
       "      <td>1</td>\n",
       "      <td>1</td>\n",
       "      <td>12/02/2010</td>\n",
       "      <td>46039.49</td>\n",
       "      <td>True</td>\n",
       "    </tr>\n",
       "    <tr>\n",
       "      <th>2</th>\n",
       "      <td>1</td>\n",
       "      <td>1</td>\n",
       "      <td>19/02/2010</td>\n",
       "      <td>41595.55</td>\n",
       "      <td>False</td>\n",
       "    </tr>\n",
       "    <tr>\n",
       "      <th>3</th>\n",
       "      <td>1</td>\n",
       "      <td>1</td>\n",
       "      <td>26/02/2010</td>\n",
       "      <td>19403.54</td>\n",
       "      <td>False</td>\n",
       "    </tr>\n",
       "    <tr>\n",
       "      <th>4</th>\n",
       "      <td>1</td>\n",
       "      <td>1</td>\n",
       "      <td>05/03/2010</td>\n",
       "      <td>21827.90</td>\n",
       "      <td>False</td>\n",
       "    </tr>\n",
       "  </tbody>\n",
       "</table>\n",
       "</div>"
      ],
      "text/plain": [
       "   Store  Dept        Date  Weekly_Sales  IsHoliday\n",
       "0      1     1  05/02/2010      24924.50      False\n",
       "1      1     1  12/02/2010      46039.49       True\n",
       "2      1     1  19/02/2010      41595.55      False\n",
       "3      1     1  26/02/2010      19403.54      False\n",
       "4      1     1  05/03/2010      21827.90      False"
      ]
     },
     "execution_count": 4,
     "metadata": {},
     "output_type": "execute_result"
    }
   ],
   "source": [
    "store_df.head()"
   ]
  },
  {
   "cell_type": "code",
   "execution_count": 5,
   "id": "ecd77052",
   "metadata": {
    "execution": {
     "iopub.execute_input": "2022-12-20T17:56:12.678842Z",
     "iopub.status.busy": "2022-12-20T17:56:12.678087Z",
     "iopub.status.idle": "2022-12-20T17:56:12.793539Z",
     "shell.execute_reply": "2022-12-20T17:56:12.791997Z"
    },
    "papermill": {
     "duration": 0.138929,
     "end_time": "2022-12-20T17:56:12.796452",
     "exception": false,
     "start_time": "2022-12-20T17:56:12.657523",
     "status": "completed"
    },
    "tags": []
   },
   "outputs": [
    {
     "data": {
      "text/html": [
       "<div>\n",
       "<style scoped>\n",
       "    .dataframe tbody tr th:only-of-type {\n",
       "        vertical-align: middle;\n",
       "    }\n",
       "\n",
       "    .dataframe tbody tr th {\n",
       "        vertical-align: top;\n",
       "    }\n",
       "\n",
       "    .dataframe thead th {\n",
       "        text-align: right;\n",
       "    }\n",
       "</style>\n",
       "<table border=\"1\" class=\"dataframe\">\n",
       "  <thead>\n",
       "    <tr style=\"text-align: right;\">\n",
       "      <th></th>\n",
       "      <th>Store</th>\n",
       "      <th>Dept</th>\n",
       "      <th>Weekly_Sales</th>\n",
       "    </tr>\n",
       "  </thead>\n",
       "  <tbody>\n",
       "    <tr>\n",
       "      <th>count</th>\n",
       "      <td>421570.000000</td>\n",
       "      <td>421570.000000</td>\n",
       "      <td>421570.000000</td>\n",
       "    </tr>\n",
       "    <tr>\n",
       "      <th>mean</th>\n",
       "      <td>22.200546</td>\n",
       "      <td>44.260317</td>\n",
       "      <td>15981.258123</td>\n",
       "    </tr>\n",
       "    <tr>\n",
       "      <th>std</th>\n",
       "      <td>12.785297</td>\n",
       "      <td>30.492054</td>\n",
       "      <td>22711.183519</td>\n",
       "    </tr>\n",
       "    <tr>\n",
       "      <th>min</th>\n",
       "      <td>1.000000</td>\n",
       "      <td>1.000000</td>\n",
       "      <td>-4988.940000</td>\n",
       "    </tr>\n",
       "    <tr>\n",
       "      <th>25%</th>\n",
       "      <td>11.000000</td>\n",
       "      <td>18.000000</td>\n",
       "      <td>2079.650000</td>\n",
       "    </tr>\n",
       "    <tr>\n",
       "      <th>50%</th>\n",
       "      <td>22.000000</td>\n",
       "      <td>37.000000</td>\n",
       "      <td>7612.030000</td>\n",
       "    </tr>\n",
       "    <tr>\n",
       "      <th>75%</th>\n",
       "      <td>33.000000</td>\n",
       "      <td>74.000000</td>\n",
       "      <td>20205.852500</td>\n",
       "    </tr>\n",
       "    <tr>\n",
       "      <th>max</th>\n",
       "      <td>45.000000</td>\n",
       "      <td>99.000000</td>\n",
       "      <td>693099.360000</td>\n",
       "    </tr>\n",
       "  </tbody>\n",
       "</table>\n",
       "</div>"
      ],
      "text/plain": [
       "               Store           Dept   Weekly_Sales\n",
       "count  421570.000000  421570.000000  421570.000000\n",
       "mean       22.200546      44.260317   15981.258123\n",
       "std        12.785297      30.492054   22711.183519\n",
       "min         1.000000       1.000000   -4988.940000\n",
       "25%        11.000000      18.000000    2079.650000\n",
       "50%        22.000000      37.000000    7612.030000\n",
       "75%        33.000000      74.000000   20205.852500\n",
       "max        45.000000      99.000000  693099.360000"
      ]
     },
     "execution_count": 5,
     "metadata": {},
     "output_type": "execute_result"
    }
   ],
   "source": [
    "store_df.describe()"
   ]
  },
  {
   "cell_type": "code",
   "execution_count": 6,
   "id": "eeaab1a5",
   "metadata": {
    "execution": {
     "iopub.execute_input": "2022-12-20T17:56:12.835160Z",
     "iopub.status.busy": "2022-12-20T17:56:12.834583Z",
     "iopub.status.idle": "2022-12-20T17:56:12.843819Z",
     "shell.execute_reply": "2022-12-20T17:56:12.842372Z"
    },
    "papermill": {
     "duration": 0.032581,
     "end_time": "2022-12-20T17:56:12.846780",
     "exception": false,
     "start_time": "2022-12-20T17:56:12.814199",
     "status": "completed"
    },
    "tags": []
   },
   "outputs": [
    {
     "data": {
      "text/plain": [
       "Index(['Store', 'Dept', 'Date', 'Weekly_Sales', 'IsHoliday'], dtype='object')"
      ]
     },
     "execution_count": 6,
     "metadata": {},
     "output_type": "execute_result"
    }
   ],
   "source": [
    "store_df.columns"
   ]
  },
  {
   "cell_type": "markdown",
   "id": "bc71b306",
   "metadata": {
    "papermill": {
     "duration": 0.017569,
     "end_time": "2022-12-20T17:56:12.882838",
     "exception": false,
     "start_time": "2022-12-20T17:56:12.865269",
     "status": "completed"
    },
    "tags": []
   },
   "source": [
    "**Actual Analysis starts\n",
    "> To be done by Adarsh K.**"
   ]
  },
  {
   "cell_type": "code",
   "execution_count": 7,
   "id": "365c33fe",
   "metadata": {
    "execution": {
     "iopub.execute_input": "2022-12-20T17:56:12.920877Z",
     "iopub.status.busy": "2022-12-20T17:56:12.920369Z",
     "iopub.status.idle": "2022-12-20T17:56:12.926279Z",
     "shell.execute_reply": "2022-12-20T17:56:12.924936Z"
    },
    "papermill": {
     "duration": 0.028351,
     "end_time": "2022-12-20T17:56:12.928986",
     "exception": false,
     "start_time": "2022-12-20T17:56:12.900635",
     "status": "completed"
    },
    "tags": []
   },
   "outputs": [],
   "source": [
    "import matplotlib.pyplot as plt"
   ]
  },
  {
   "cell_type": "code",
   "execution_count": 8,
   "id": "02394e8e",
   "metadata": {
    "execution": {
     "iopub.execute_input": "2022-12-20T17:56:12.964385Z",
     "iopub.status.busy": "2022-12-20T17:56:12.963938Z",
     "iopub.status.idle": "2022-12-20T17:56:13.192015Z",
     "shell.execute_reply": "2022-12-20T17:56:13.190738Z"
    },
    "papermill": {
     "duration": 0.249522,
     "end_time": "2022-12-20T17:56:13.195304",
     "exception": false,
     "start_time": "2022-12-20T17:56:12.945782",
     "status": "completed"
    },
    "tags": []
   },
   "outputs": [],
   "source": [
    "df = pd.read_csv('/kaggle/input/retaildataset/sales data-set.csv')"
   ]
  },
  {
   "cell_type": "code",
   "execution_count": 9,
   "id": "7f611949",
   "metadata": {
    "execution": {
     "iopub.execute_input": "2022-12-20T17:56:13.230641Z",
     "iopub.status.busy": "2022-12-20T17:56:13.230171Z",
     "iopub.status.idle": "2022-12-20T17:56:13.491172Z",
     "shell.execute_reply": "2022-12-20T17:56:13.489675Z"
    },
    "papermill": {
     "duration": 0.282948,
     "end_time": "2022-12-20T17:56:13.495019",
     "exception": false,
     "start_time": "2022-12-20T17:56:13.212071",
     "status": "completed"
    },
    "tags": []
   },
   "outputs": [
    {
     "data": {
      "text/plain": [
       "Text(0, 0.5, 'Sales')"
      ]
     },
     "execution_count": 9,
     "metadata": {},
     "output_type": "execute_result"
    },
    {
     "data": {
      "image/png": "[encoded data removed]",
      "text/plain": [
       "<Figure size 432x288 with 1 Axes>"
      ]
     },
     "metadata": {
      "needs_background": "light"
     },
     "output_type": "display_data"
    }
   ],
   "source": [
    "import matplotlib.pyplot as plt\n",
    "plt.plot(df['Weekly_Sales'][:80])\n",
    "plt.xlabel('Weeks')\n",
    "plt.ylabel('Sales')"
   ]
  },
  {
   "cell_type": "code",
   "execution_count": 10,
   "id": "809b9364",
   "metadata": {
    "execution": {
     "iopub.execute_input": "2022-12-20T17:56:13.536433Z",
     "iopub.status.busy": "2022-12-20T17:56:13.535983Z",
     "iopub.status.idle": "2022-12-20T17:56:13.614019Z",
     "shell.execute_reply": "2022-12-20T17:56:13.612725Z"
    },
    "papermill": {
     "duration": 0.101368,
     "end_time": "2022-12-20T17:56:13.617347",
     "exception": false,
     "start_time": "2022-12-20T17:56:13.515979",
     "status": "completed"
    },
    "tags": []
   },
   "outputs": [],
   "source": [
    "df['Date'] = pd.to_datetime(df['Date'])"
   ]
  },
  {
   "cell_type": "code",
   "execution_count": 11,
   "id": "cedceb86",
   "metadata": {
    "execution": {
     "iopub.execute_input": "2022-12-20T17:56:13.654533Z",
     "iopub.status.busy": "2022-12-20T17:56:13.654076Z",
     "iopub.status.idle": "2022-12-20T17:56:15.926286Z",
     "shell.execute_reply": "2022-12-20T17:56:15.924915Z"
    },
    "papermill": {
     "duration": 2.294321,
     "end_time": "2022-12-20T17:56:15.929542",
     "exception": false,
     "start_time": "2022-12-20T17:56:13.635221",
     "status": "completed"
    },
    "tags": []
   },
   "outputs": [],
   "source": [
    "total_sale_by_months_overall = df.groupby(df['Date'].dt.strftime('%B'))['Weekly_Sales'].sum().sort_values()"
   ]
  },
  {
   "cell_type": "code",
   "execution_count": 12,
   "id": "42c6a648",
   "metadata": {
    "execution": {
     "iopub.execute_input": "2022-12-20T17:56:15.966515Z",
     "iopub.status.busy": "2022-12-20T17:56:15.966086Z",
     "iopub.status.idle": "2022-12-20T17:56:16.354874Z",
     "shell.execute_reply": "2022-12-20T17:56:16.353572Z"
    },
    "papermill": {
     "duration": 0.410762,
     "end_time": "2022-12-20T17:56:16.357694",
     "exception": false,
     "start_time": "2022-12-20T17:56:15.946932",
     "status": "completed"
    },
    "tags": []
   },
   "outputs": [
    {
     "data": {
      "text/plain": [
       "<Figure size 7200x7200 with 0 Axes>"
      ]
     },
     "execution_count": 12,
     "metadata": {},
     "output_type": "execute_result"
    },
    {
     "data": {
      "image/png": "[encoded data removed]",
      "text/plain": [
       "<Figure size 432x288 with 1 Axes>"
      ]
     },
     "metadata": {
      "needs_background": "light"
     },
     "output_type": "display_data"
    },
    {
     "data": {
      "text/plain": [
       "<Figure size 7200x7200 with 0 Axes>"
      ]
     },
     "metadata": {},
     "output_type": "display_data"
    }
   ],
   "source": [
    "plt.plot(total_sale_by_months_overall)\n",
    "plt.xlabel(\"Months\")\n",
    "plt.ylabel(\"Sales(in thousand dollars)\")\n",
    "plt.figure(figsize=(100,100))"
   ]
  },
  {
   "cell_type": "code",
   "execution_count": 13,
   "id": "97399993",
   "metadata": {
    "execution": {
     "iopub.execute_input": "2022-12-20T17:56:16.397417Z",
     "iopub.status.busy": "2022-12-20T17:56:16.396303Z",
     "iopub.status.idle": "2022-12-20T17:56:16.412247Z",
     "shell.execute_reply": "2022-12-20T17:56:16.410891Z"
    },
    "papermill": {
     "duration": 0.038277,
     "end_time": "2022-12-20T17:56:16.414924",
     "exception": false,
     "start_time": "2022-12-20T17:56:16.376647",
     "status": "completed"
    },
    "tags": []
   },
   "outputs": [
    {
     "data": {
      "text/html": [
       "<div>\n",
       "<style scoped>\n",
       "    .dataframe tbody tr th:only-of-type {\n",
       "        vertical-align: middle;\n",
       "    }\n",
       "\n",
       "    .dataframe tbody tr th {\n",
       "        vertical-align: top;\n",
       "    }\n",
       "\n",
       "    .dataframe thead th {\n",
       "        text-align: right;\n",
       "    }\n",
       "</style>\n",
       "<table border=\"1\" class=\"dataframe\">\n",
       "  <thead>\n",
       "    <tr style=\"text-align: right;\">\n",
       "      <th></th>\n",
       "      <th>Store</th>\n",
       "      <th>Dept</th>\n",
       "      <th>Date</th>\n",
       "      <th>Weekly_Sales</th>\n",
       "      <th>IsHoliday</th>\n",
       "    </tr>\n",
       "  </thead>\n",
       "  <tbody>\n",
       "    <tr>\n",
       "      <th>0</th>\n",
       "      <td>1</td>\n",
       "      <td>1</td>\n",
       "      <td>2010-05-02</td>\n",
       "      <td>24924.50</td>\n",
       "      <td>False</td>\n",
       "    </tr>\n",
       "    <tr>\n",
       "      <th>1</th>\n",
       "      <td>1</td>\n",
       "      <td>1</td>\n",
       "      <td>2010-12-02</td>\n",
       "      <td>46039.49</td>\n",
       "      <td>True</td>\n",
       "    </tr>\n",
       "    <tr>\n",
       "      <th>2</th>\n",
       "      <td>1</td>\n",
       "      <td>1</td>\n",
       "      <td>2010-02-19</td>\n",
       "      <td>41595.55</td>\n",
       "      <td>False</td>\n",
       "    </tr>\n",
       "    <tr>\n",
       "      <th>3</th>\n",
       "      <td>1</td>\n",
       "      <td>1</td>\n",
       "      <td>2010-02-26</td>\n",
       "      <td>19403.54</td>\n",
       "      <td>False</td>\n",
       "    </tr>\n",
       "    <tr>\n",
       "      <th>4</th>\n",
       "      <td>1</td>\n",
       "      <td>1</td>\n",
       "      <td>2010-05-03</td>\n",
       "      <td>21827.90</td>\n",
       "      <td>False</td>\n",
       "    </tr>\n",
       "    <tr>\n",
       "      <th>5</th>\n",
       "      <td>1</td>\n",
       "      <td>1</td>\n",
       "      <td>2010-12-03</td>\n",
       "      <td>21043.39</td>\n",
       "      <td>False</td>\n",
       "    </tr>\n",
       "    <tr>\n",
       "      <th>6</th>\n",
       "      <td>1</td>\n",
       "      <td>1</td>\n",
       "      <td>2010-03-19</td>\n",
       "      <td>22136.64</td>\n",
       "      <td>False</td>\n",
       "    </tr>\n",
       "    <tr>\n",
       "      <th>7</th>\n",
       "      <td>1</td>\n",
       "      <td>1</td>\n",
       "      <td>2010-03-26</td>\n",
       "      <td>26229.21</td>\n",
       "      <td>False</td>\n",
       "    </tr>\n",
       "    <tr>\n",
       "      <th>8</th>\n",
       "      <td>1</td>\n",
       "      <td>1</td>\n",
       "      <td>2010-02-04</td>\n",
       "      <td>57258.43</td>\n",
       "      <td>False</td>\n",
       "    </tr>\n",
       "    <tr>\n",
       "      <th>9</th>\n",
       "      <td>1</td>\n",
       "      <td>1</td>\n",
       "      <td>2010-09-04</td>\n",
       "      <td>42960.91</td>\n",
       "      <td>False</td>\n",
       "    </tr>\n",
       "  </tbody>\n",
       "</table>\n",
       "</div>"
      ],
      "text/plain": [
       "   Store  Dept       Date  Weekly_Sales  IsHoliday\n",
       "0      1     1 2010-05-02      24924.50      False\n",
       "1      1     1 2010-12-02      46039.49       True\n",
       "2      1     1 2010-02-19      41595.55      False\n",
       "3      1     1 2010-02-26      19403.54      False\n",
       "4      1     1 2010-05-03      21827.90      False\n",
       "5      1     1 2010-12-03      21043.39      False\n",
       "6      1     1 2010-03-19      22136.64      False\n",
       "7      1     1 2010-03-26      26229.21      False\n",
       "8      1     1 2010-02-04      57258.43      False\n",
       "9      1     1 2010-09-04      42960.91      False"
      ]
     },
     "execution_count": 13,
     "metadata": {},
     "output_type": "execute_result"
    }
   ],
   "source": [
    "df.head(10) # Store data general headings , showing Weekly Salesa and Holidays."
   ]
  },
  {
   "cell_type": "code",
   "execution_count": 14,
   "id": "ac16eb47",
   "metadata": {
    "execution": {
     "iopub.execute_input": "2022-12-20T17:56:16.454003Z",
     "iopub.status.busy": "2022-12-20T17:56:16.453266Z",
     "iopub.status.idle": "2022-12-20T17:56:16.463862Z",
     "shell.execute_reply": "2022-12-20T17:56:16.462562Z"
    },
    "papermill": {
     "duration": 0.033594,
     "end_time": "2022-12-20T17:56:16.466825",
     "exception": false,
     "start_time": "2022-12-20T17:56:16.433231",
     "status": "completed"
    },
    "tags": []
   },
   "outputs": [],
   "source": [
    "df_sales_in_holiday_week = df[['Weekly_Sales','IsHoliday']] #Creating Data to analyse impact of holiday on sales."
   ]
  },
  {
   "cell_type": "code",
   "execution_count": 15,
   "id": "60f6dc25",
   "metadata": {
    "execution": {
     "iopub.execute_input": "2022-12-20T17:56:16.506604Z",
     "iopub.status.busy": "2022-12-20T17:56:16.506083Z",
     "iopub.status.idle": "2022-12-20T17:56:16.522168Z",
     "shell.execute_reply": "2022-12-20T17:56:16.520742Z"
    },
    "papermill": {
     "duration": 0.038617,
     "end_time": "2022-12-20T17:56:16.524884",
     "exception": false,
     "start_time": "2022-12-20T17:56:16.486267",
     "status": "completed"
    },
    "tags": []
   },
   "outputs": [
    {
     "data": {
      "text/html": [
       "<div>\n",
       "<style scoped>\n",
       "    .dataframe tbody tr th:only-of-type {\n",
       "        vertical-align: middle;\n",
       "    }\n",
       "\n",
       "    .dataframe tbody tr th {\n",
       "        vertical-align: top;\n",
       "    }\n",
       "\n",
       "    .dataframe thead th {\n",
       "        text-align: right;\n",
       "    }\n",
       "</style>\n",
       "<table border=\"1\" class=\"dataframe\">\n",
       "  <thead>\n",
       "    <tr style=\"text-align: right;\">\n",
       "      <th></th>\n",
       "      <th>Weekly_Sales</th>\n",
       "      <th>IsHoliday</th>\n",
       "    </tr>\n",
       "  </thead>\n",
       "  <tbody>\n",
       "    <tr>\n",
       "      <th>0</th>\n",
       "      <td>24924.50</td>\n",
       "      <td>False</td>\n",
       "    </tr>\n",
       "    <tr>\n",
       "      <th>1</th>\n",
       "      <td>46039.49</td>\n",
       "      <td>True</td>\n",
       "    </tr>\n",
       "    <tr>\n",
       "      <th>2</th>\n",
       "      <td>41595.55</td>\n",
       "      <td>False</td>\n",
       "    </tr>\n",
       "    <tr>\n",
       "      <th>3</th>\n",
       "      <td>19403.54</td>\n",
       "      <td>False</td>\n",
       "    </tr>\n",
       "    <tr>\n",
       "      <th>4</th>\n",
       "      <td>21827.90</td>\n",
       "      <td>False</td>\n",
       "    </tr>\n",
       "    <tr>\n",
       "      <th>...</th>\n",
       "      <td>...</td>\n",
       "      <td>...</td>\n",
       "    </tr>\n",
       "    <tr>\n",
       "      <th>421565</th>\n",
       "      <td>508.37</td>\n",
       "      <td>False</td>\n",
       "    </tr>\n",
       "    <tr>\n",
       "      <th>421566</th>\n",
       "      <td>628.10</td>\n",
       "      <td>False</td>\n",
       "    </tr>\n",
       "    <tr>\n",
       "      <th>421567</th>\n",
       "      <td>1061.02</td>\n",
       "      <td>False</td>\n",
       "    </tr>\n",
       "    <tr>\n",
       "      <th>421568</th>\n",
       "      <td>760.01</td>\n",
       "      <td>False</td>\n",
       "    </tr>\n",
       "    <tr>\n",
       "      <th>421569</th>\n",
       "      <td>1076.80</td>\n",
       "      <td>False</td>\n",
       "    </tr>\n",
       "  </tbody>\n",
       "</table>\n",
       "<p>421570 rows × 2 columns</p>\n",
       "</div>"
      ],
      "text/plain": [
       "        Weekly_Sales  IsHoliday\n",
       "0           24924.50      False\n",
       "1           46039.49       True\n",
       "2           41595.55      False\n",
       "3           19403.54      False\n",
       "4           21827.90      False\n",
       "...              ...        ...\n",
       "421565        508.37      False\n",
       "421566        628.10      False\n",
       "421567       1061.02      False\n",
       "421568        760.01      False\n",
       "421569       1076.80      False\n",
       "\n",
       "[421570 rows x 2 columns]"
      ]
     },
     "execution_count": 15,
     "metadata": {},
     "output_type": "execute_result"
    }
   ],
   "source": [
    "df_sales_in_holiday_week #Total 4 lakh rows of data to analyse for holiday."
   ]
  },
  {
   "cell_type": "code",
   "execution_count": 16,
   "id": "b6ac5e57",
   "metadata": {
    "execution": {
     "iopub.execute_input": "2022-12-20T17:56:16.564558Z",
     "iopub.status.busy": "2022-12-20T17:56:16.563695Z",
     "iopub.status.idle": "2022-12-20T17:56:16.575003Z",
     "shell.execute_reply": "2022-12-20T17:56:16.573888Z"
    },
    "papermill": {
     "duration": 0.034117,
     "end_time": "2022-12-20T17:56:16.577872",
     "exception": false,
     "start_time": "2022-12-20T17:56:16.543755",
     "status": "completed"
    },
    "tags": []
   },
   "outputs": [],
   "source": [
    "df_sales_in_holiday_week = df_sales_in_holiday_week[df_sales_in_holiday_week['IsHoliday']==True] #Selecting Holidays days from all the records."
   ]
  },
  {
   "cell_type": "code",
   "execution_count": 17,
   "id": "02376b8a",
   "metadata": {
    "execution": {
     "iopub.execute_input": "2022-12-20T17:56:16.617577Z",
     "iopub.status.busy": "2022-12-20T17:56:16.616586Z",
     "iopub.status.idle": "2022-12-20T17:56:16.629502Z",
     "shell.execute_reply": "2022-12-20T17:56:16.628360Z"
    },
    "papermill": {
     "duration": 0.035222,
     "end_time": "2022-12-20T17:56:16.631877",
     "exception": false,
     "start_time": "2022-12-20T17:56:16.596655",
     "status": "completed"
    },
    "tags": []
   },
   "outputs": [
    {
     "data": {
      "text/html": [
       "<div>\n",
       "<style scoped>\n",
       "    .dataframe tbody tr th:only-of-type {\n",
       "        vertical-align: middle;\n",
       "    }\n",
       "\n",
       "    .dataframe tbody tr th {\n",
       "        vertical-align: top;\n",
       "    }\n",
       "\n",
       "    .dataframe thead th {\n",
       "        text-align: right;\n",
       "    }\n",
       "</style>\n",
       "<table border=\"1\" class=\"dataframe\">\n",
       "  <thead>\n",
       "    <tr style=\"text-align: right;\">\n",
       "      <th></th>\n",
       "      <th>Weekly_Sales</th>\n",
       "      <th>IsHoliday</th>\n",
       "    </tr>\n",
       "  </thead>\n",
       "  <tbody>\n",
       "    <tr>\n",
       "      <th>1</th>\n",
       "      <td>46039.49</td>\n",
       "      <td>True</td>\n",
       "    </tr>\n",
       "    <tr>\n",
       "      <th>31</th>\n",
       "      <td>18194.74</td>\n",
       "      <td>True</td>\n",
       "    </tr>\n",
       "    <tr>\n",
       "      <th>42</th>\n",
       "      <td>18820.29</td>\n",
       "      <td>True</td>\n",
       "    </tr>\n",
       "    <tr>\n",
       "      <th>47</th>\n",
       "      <td>19124.58</td>\n",
       "      <td>True</td>\n",
       "    </tr>\n",
       "    <tr>\n",
       "      <th>53</th>\n",
       "      <td>37887.17</td>\n",
       "      <td>True</td>\n",
       "    </tr>\n",
       "    <tr>\n",
       "      <th>...</th>\n",
       "      <td>...</td>\n",
       "      <td>...</td>\n",
       "    </tr>\n",
       "    <tr>\n",
       "      <th>421510</th>\n",
       "      <td>1092.66</td>\n",
       "      <td>True</td>\n",
       "    </tr>\n",
       "    <tr>\n",
       "      <th>421521</th>\n",
       "      <td>794.62</td>\n",
       "      <td>True</td>\n",
       "    </tr>\n",
       "    <tr>\n",
       "      <th>421526</th>\n",
       "      <td>553.21</td>\n",
       "      <td>True</td>\n",
       "    </tr>\n",
       "    <tr>\n",
       "      <th>421532</th>\n",
       "      <td>770.86</td>\n",
       "      <td>True</td>\n",
       "    </tr>\n",
       "    <tr>\n",
       "      <th>421562</th>\n",
       "      <td>352.44</td>\n",
       "      <td>True</td>\n",
       "    </tr>\n",
       "  </tbody>\n",
       "</table>\n",
       "<p>29661 rows × 2 columns</p>\n",
       "</div>"
      ],
      "text/plain": [
       "        Weekly_Sales  IsHoliday\n",
       "1           46039.49       True\n",
       "31          18194.74       True\n",
       "42          18820.29       True\n",
       "47          19124.58       True\n",
       "53          37887.17       True\n",
       "...              ...        ...\n",
       "421510       1092.66       True\n",
       "421521        794.62       True\n",
       "421526        553.21       True\n",
       "421532        770.86       True\n",
       "421562        352.44       True\n",
       "\n",
       "[29661 rows x 2 columns]"
      ]
     },
     "execution_count": 17,
     "metadata": {},
     "output_type": "execute_result"
    }
   ],
   "source": [
    "df_sales_in_holiday_week"
   ]
  },
  {
   "cell_type": "code",
   "execution_count": 18,
   "id": "ac1d6b73",
   "metadata": {
    "execution": {
     "iopub.execute_input": "2022-12-20T17:56:16.671416Z",
     "iopub.status.busy": "2022-12-20T17:56:16.670961Z",
     "iopub.status.idle": "2022-12-20T17:56:16.926228Z",
     "shell.execute_reply": "2022-12-20T17:56:16.924629Z"
    },
    "papermill": {
     "duration": 0.278675,
     "end_time": "2022-12-20T17:56:16.929287",
     "exception": false,
     "start_time": "2022-12-20T17:56:16.650612",
     "status": "completed"
    },
    "tags": []
   },
   "outputs": [
    {
     "data": {
      "text/plain": [
       "Text(0.5, 0, 'Indices')"
      ]
     },
     "execution_count": 18,
     "metadata": {},
     "output_type": "execute_result"
    },
    {
     "data": {
      "image/png": "[encoded data removed]",
      "text/plain": [
       "<Figure size 432x288 with 1 Axes>"
      ]
     },
     "metadata": {
      "needs_background": "light"
     },
     "output_type": "display_data"
    }
   ],
   "source": [
    "plt.plot(df_sales_in_holiday_week[['Weekly_Sales']])\n",
    "plt.ylabel('Sales on holiday')                       #Time series data for sales on holidays only.\n",
    "plt.xlabel('Indices')"
   ]
  },
  {
   "cell_type": "code",
   "execution_count": 19,
   "id": "040801aa",
   "metadata": {
    "execution": {
     "iopub.execute_input": "2022-12-20T17:56:16.973667Z",
     "iopub.status.busy": "2022-12-20T17:56:16.973101Z",
     "iopub.status.idle": "2022-12-20T17:56:16.985346Z",
     "shell.execute_reply": "2022-12-20T17:56:16.983941Z"
    },
    "papermill": {
     "duration": 0.036881,
     "end_time": "2022-12-20T17:56:16.988225",
     "exception": false,
     "start_time": "2022-12-20T17:56:16.951344",
     "status": "completed"
    },
    "tags": []
   },
   "outputs": [
    {
     "data": {
      "text/plain": [
       "Weekly_Sales    693099.36\n",
       "dtype: float64"
      ]
     },
     "execution_count": 19,
     "metadata": {},
     "output_type": "execute_result"
    }
   ],
   "source": [
    "df_sales_in_holiday_week[['Weekly_Sales']].max()  #maximum sale on a holidays"
   ]
  },
  {
   "cell_type": "code",
   "execution_count": 20,
   "id": "c8120ba6",
   "metadata": {
    "execution": {
     "iopub.execute_input": "2022-12-20T17:56:17.031805Z",
     "iopub.status.busy": "2022-12-20T17:56:17.031356Z",
     "iopub.status.idle": "2022-12-20T17:56:17.043457Z",
     "shell.execute_reply": "2022-12-20T17:56:17.042233Z"
    },
    "papermill": {
     "duration": 0.037294,
     "end_time": "2022-12-20T17:56:17.046382",
     "exception": false,
     "start_time": "2022-12-20T17:56:17.009088",
     "status": "completed"
    },
    "tags": []
   },
   "outputs": [
    {
     "data": {
      "text/plain": [
       "Weekly_Sales    798.0\n",
       "dtype: float64"
      ]
     },
     "execution_count": 20,
     "metadata": {},
     "output_type": "execute_result"
    }
   ],
   "source": [
    "abs(df_sales_in_holiday_week[['Weekly_Sales']].min()) #minimum sale on a holidays"
   ]
  },
  {
   "cell_type": "code",
   "execution_count": 21,
   "id": "3ae35100",
   "metadata": {
    "execution": {
     "iopub.execute_input": "2022-12-20T17:56:17.089725Z",
     "iopub.status.busy": "2022-12-20T17:56:17.089262Z",
     "iopub.status.idle": "2022-12-20T17:56:17.101738Z",
     "shell.execute_reply": "2022-12-20T17:56:17.100668Z"
    },
    "papermill": {
     "duration": 0.037695,
     "end_time": "2022-12-20T17:56:17.104637",
     "exception": false,
     "start_time": "2022-12-20T17:56:17.066942",
     "status": "completed"
    },
    "tags": []
   },
   "outputs": [
    {
     "data": {
      "text/plain": [
       "Weekly_Sales    17035.823187\n",
       "dtype: float64"
      ]
     },
     "execution_count": 21,
     "metadata": {},
     "output_type": "execute_result"
    }
   ],
   "source": [
    "df_sales_in_holiday_week[['Weekly_Sales']].mean() #average sale on holidays"
   ]
  },
  {
   "cell_type": "markdown",
   "id": "acc4c8da",
   "metadata": {
    "papermill": {
     "duration": 0.020117,
     "end_time": "2022-12-20T17:56:17.144532",
     "exception": false,
     "start_time": "2022-12-20T17:56:17.124415",
     "status": "completed"
    },
    "tags": []
   },
   "source": [
    "**Stores data analysis ahead...\n",
    "**"
   ]
  },
  {
   "cell_type": "code",
   "execution_count": 22,
   "id": "b906978f",
   "metadata": {
    "execution": {
     "iopub.execute_input": "2022-12-20T17:56:17.186484Z",
     "iopub.status.busy": "2022-12-20T17:56:17.186038Z",
     "iopub.status.idle": "2022-12-20T17:56:17.195977Z",
     "shell.execute_reply": "2022-12-20T17:56:17.194570Z"
    },
    "papermill": {
     "duration": 0.034188,
     "end_time": "2022-12-20T17:56:17.198978",
     "exception": false,
     "start_time": "2022-12-20T17:56:17.164790",
     "status": "completed"
    },
    "tags": []
   },
   "outputs": [],
   "source": [
    "df_store_data = pd.read_csv('/kaggle/input/retaildataset/stores data-set.csv')"
   ]
  },
  {
   "cell_type": "code",
   "execution_count": 23,
   "id": "2ca12602",
   "metadata": {
    "execution": {
     "iopub.execute_input": "2022-12-20T17:56:17.241055Z",
     "iopub.status.busy": "2022-12-20T17:56:17.240616Z",
     "iopub.status.idle": "2022-12-20T17:56:17.248826Z",
     "shell.execute_reply": "2022-12-20T17:56:17.247582Z"
    },
    "papermill": {
     "duration": 0.032063,
     "end_time": "2022-12-20T17:56:17.251348",
     "exception": false,
     "start_time": "2022-12-20T17:56:17.219285",
     "status": "completed"
    },
    "tags": []
   },
   "outputs": [
    {
     "data": {
      "text/plain": [
       "Index(['Store', 'Type', 'Size'], dtype='object')"
      ]
     },
     "execution_count": 23,
     "metadata": {},
     "output_type": "execute_result"
    }
   ],
   "source": [
    "df_store_data.columns"
   ]
  },
  {
   "cell_type": "code",
   "execution_count": 24,
   "id": "864d2149",
   "metadata": {
    "execution": {
     "iopub.execute_input": "2022-12-20T17:56:17.294489Z",
     "iopub.status.busy": "2022-12-20T17:56:17.294019Z",
     "iopub.status.idle": "2022-12-20T17:56:17.301948Z",
     "shell.execute_reply": "2022-12-20T17:56:17.300552Z"
    },
    "papermill": {
     "duration": 0.03236,
     "end_time": "2022-12-20T17:56:17.305011",
     "exception": false,
     "start_time": "2022-12-20T17:56:17.272651",
     "status": "completed"
    },
    "tags": []
   },
   "outputs": [],
   "source": [
    "store_1_sales_df = df[df['Store'] == 1]['Weekly_Sales'] #Store 1 sales data"
   ]
  },
  {
   "cell_type": "code",
   "execution_count": 25,
   "id": "c34385e6",
   "metadata": {
    "execution": {
     "iopub.execute_input": "2022-12-20T17:56:17.347189Z",
     "iopub.status.busy": "2022-12-20T17:56:17.346737Z",
     "iopub.status.idle": "2022-12-20T17:56:17.602710Z",
     "shell.execute_reply": "2022-12-20T17:56:17.601508Z"
    },
    "papermill": {
     "duration": 0.280785,
     "end_time": "2022-12-20T17:56:17.605764",
     "exception": false,
     "start_time": "2022-12-20T17:56:17.324979",
     "status": "completed"
    },
    "tags": []
   },
   "outputs": [
    {
     "data": {
      "text/plain": [
       "Text(0, 0.5, 'Sales in Dollars')"
      ]
     },
     "execution_count": 25,
     "metadata": {},
     "output_type": "execute_result"
    },
    {
     "data": {
      "image/png": "[encoded data removed]",
      "text/plain": [
       "<Figure size 432x288 with 1 Axes>"
      ]
     },
     "metadata": {
      "needs_background": "light"
     },
     "output_type": "display_data"
    }
   ],
   "source": [
    "plt.plot(store_1_sales_df) \n",
    "plt.xlabel('Indices')\n",
    "plt.ylabel('Sales in Dollars')    #Time series data for sale in dept no 1. Similar inferentials could be drawn for remaining s\n",
    "                                    #stores ,how their sales look like , when its at peak ,w"
   ]
  },
  {
   "cell_type": "markdown",
   "id": "bfd37cfd",
   "metadata": {
    "papermill": {
     "duration": 0.019733,
     "end_time": "2022-12-20T17:56:17.646091",
     "exception": false,
     "start_time": "2022-12-20T17:56:17.626358",
     "status": "completed"
    },
    "tags": []
   },
   "source": [
    "Features data Analysis"
   ]
  },
  {
   "cell_type": "code",
   "execution_count": 26,
   "id": "b4cfc41f",
   "metadata": {
    "execution": {
     "iopub.execute_input": "2022-12-20T17:56:17.688854Z",
     "iopub.status.busy": "2022-12-20T17:56:17.688434Z",
     "iopub.status.idle": "2022-12-20T17:56:17.719208Z",
     "shell.execute_reply": "2022-12-20T17:56:17.718060Z"
    },
    "papermill": {
     "duration": 0.055842,
     "end_time": "2022-12-20T17:56:17.722380",
     "exception": false,
     "start_time": "2022-12-20T17:56:17.666538",
     "status": "completed"
    },
    "tags": []
   },
   "outputs": [],
   "source": [
    "df_features = pd.read_csv('/kaggle/input/retaildataset/Features data set.csv')"
   ]
  },
  {
   "cell_type": "code",
   "execution_count": 27,
   "id": "52d16a7a",
   "metadata": {
    "execution": {
     "iopub.execute_input": "2022-12-20T17:56:17.764733Z",
     "iopub.status.busy": "2022-12-20T17:56:17.764309Z",
     "iopub.status.idle": "2022-12-20T17:56:17.790323Z",
     "shell.execute_reply": "2022-12-20T17:56:17.789243Z"
    },
    "papermill": {
     "duration": 0.050058,
     "end_time": "2022-12-20T17:56:17.792784",
     "exception": false,
     "start_time": "2022-12-20T17:56:17.742726",
     "status": "completed"
    },
    "tags": []
   },
   "outputs": [
    {
     "data": {
      "text/html": [
       "<div>\n",
       "<style scoped>\n",
       "    .dataframe tbody tr th:only-of-type {\n",
       "        vertical-align: middle;\n",
       "    }\n",
       "\n",
       "    .dataframe tbody tr th {\n",
       "        vertical-align: top;\n",
       "    }\n",
       "\n",
       "    .dataframe thead th {\n",
       "        text-align: right;\n",
       "    }\n",
       "</style>\n",
       "<table border=\"1\" class=\"dataframe\">\n",
       "  <thead>\n",
       "    <tr style=\"text-align: right;\">\n",
       "      <th></th>\n",
       "      <th>Store</th>\n",
       "      <th>Date</th>\n",
       "      <th>Temperature</th>\n",
       "      <th>Fuel_Price</th>\n",
       "      <th>MarkDown1</th>\n",
       "      <th>MarkDown2</th>\n",
       "      <th>MarkDown3</th>\n",
       "      <th>MarkDown4</th>\n",
       "      <th>MarkDown5</th>\n",
       "      <th>CPI</th>\n",
       "      <th>Unemployment</th>\n",
       "      <th>IsHoliday</th>\n",
       "    </tr>\n",
       "  </thead>\n",
       "  <tbody>\n",
       "    <tr>\n",
       "      <th>0</th>\n",
       "      <td>1</td>\n",
       "      <td>05/02/2010</td>\n",
       "      <td>42.31</td>\n",
       "      <td>2.572</td>\n",
       "      <td>NaN</td>\n",
       "      <td>NaN</td>\n",
       "      <td>NaN</td>\n",
       "      <td>NaN</td>\n",
       "      <td>NaN</td>\n",
       "      <td>211.096358</td>\n",
       "      <td>8.106</td>\n",
       "      <td>False</td>\n",
       "    </tr>\n",
       "    <tr>\n",
       "      <th>1</th>\n",
       "      <td>1</td>\n",
       "      <td>12/02/2010</td>\n",
       "      <td>38.51</td>\n",
       "      <td>2.548</td>\n",
       "      <td>NaN</td>\n",
       "      <td>NaN</td>\n",
       "      <td>NaN</td>\n",
       "      <td>NaN</td>\n",
       "      <td>NaN</td>\n",
       "      <td>211.242170</td>\n",
       "      <td>8.106</td>\n",
       "      <td>True</td>\n",
       "    </tr>\n",
       "    <tr>\n",
       "      <th>2</th>\n",
       "      <td>1</td>\n",
       "      <td>19/02/2010</td>\n",
       "      <td>39.93</td>\n",
       "      <td>2.514</td>\n",
       "      <td>NaN</td>\n",
       "      <td>NaN</td>\n",
       "      <td>NaN</td>\n",
       "      <td>NaN</td>\n",
       "      <td>NaN</td>\n",
       "      <td>211.289143</td>\n",
       "      <td>8.106</td>\n",
       "      <td>False</td>\n",
       "    </tr>\n",
       "    <tr>\n",
       "      <th>3</th>\n",
       "      <td>1</td>\n",
       "      <td>26/02/2010</td>\n",
       "      <td>46.63</td>\n",
       "      <td>2.561</td>\n",
       "      <td>NaN</td>\n",
       "      <td>NaN</td>\n",
       "      <td>NaN</td>\n",
       "      <td>NaN</td>\n",
       "      <td>NaN</td>\n",
       "      <td>211.319643</td>\n",
       "      <td>8.106</td>\n",
       "      <td>False</td>\n",
       "    </tr>\n",
       "    <tr>\n",
       "      <th>4</th>\n",
       "      <td>1</td>\n",
       "      <td>05/03/2010</td>\n",
       "      <td>46.50</td>\n",
       "      <td>2.625</td>\n",
       "      <td>NaN</td>\n",
       "      <td>NaN</td>\n",
       "      <td>NaN</td>\n",
       "      <td>NaN</td>\n",
       "      <td>NaN</td>\n",
       "      <td>211.350143</td>\n",
       "      <td>8.106</td>\n",
       "      <td>False</td>\n",
       "    </tr>\n",
       "    <tr>\n",
       "      <th>...</th>\n",
       "      <td>...</td>\n",
       "      <td>...</td>\n",
       "      <td>...</td>\n",
       "      <td>...</td>\n",
       "      <td>...</td>\n",
       "      <td>...</td>\n",
       "      <td>...</td>\n",
       "      <td>...</td>\n",
       "      <td>...</td>\n",
       "      <td>...</td>\n",
       "      <td>...</td>\n",
       "      <td>...</td>\n",
       "    </tr>\n",
       "    <tr>\n",
       "      <th>8185</th>\n",
       "      <td>45</td>\n",
       "      <td>28/06/2013</td>\n",
       "      <td>76.05</td>\n",
       "      <td>3.639</td>\n",
       "      <td>4842.29</td>\n",
       "      <td>975.03</td>\n",
       "      <td>3.00</td>\n",
       "      <td>2449.97</td>\n",
       "      <td>3169.69</td>\n",
       "      <td>NaN</td>\n",
       "      <td>NaN</td>\n",
       "      <td>False</td>\n",
       "    </tr>\n",
       "    <tr>\n",
       "      <th>8186</th>\n",
       "      <td>45</td>\n",
       "      <td>05/07/2013</td>\n",
       "      <td>77.50</td>\n",
       "      <td>3.614</td>\n",
       "      <td>9090.48</td>\n",
       "      <td>2268.58</td>\n",
       "      <td>582.74</td>\n",
       "      <td>5797.47</td>\n",
       "      <td>1514.93</td>\n",
       "      <td>NaN</td>\n",
       "      <td>NaN</td>\n",
       "      <td>False</td>\n",
       "    </tr>\n",
       "    <tr>\n",
       "      <th>8187</th>\n",
       "      <td>45</td>\n",
       "      <td>12/07/2013</td>\n",
       "      <td>79.37</td>\n",
       "      <td>3.614</td>\n",
       "      <td>3789.94</td>\n",
       "      <td>1827.31</td>\n",
       "      <td>85.72</td>\n",
       "      <td>744.84</td>\n",
       "      <td>2150.36</td>\n",
       "      <td>NaN</td>\n",
       "      <td>NaN</td>\n",
       "      <td>False</td>\n",
       "    </tr>\n",
       "    <tr>\n",
       "      <th>8188</th>\n",
       "      <td>45</td>\n",
       "      <td>19/07/2013</td>\n",
       "      <td>82.84</td>\n",
       "      <td>3.737</td>\n",
       "      <td>2961.49</td>\n",
       "      <td>1047.07</td>\n",
       "      <td>204.19</td>\n",
       "      <td>363.00</td>\n",
       "      <td>1059.46</td>\n",
       "      <td>NaN</td>\n",
       "      <td>NaN</td>\n",
       "      <td>False</td>\n",
       "    </tr>\n",
       "    <tr>\n",
       "      <th>8189</th>\n",
       "      <td>45</td>\n",
       "      <td>26/07/2013</td>\n",
       "      <td>76.06</td>\n",
       "      <td>3.804</td>\n",
       "      <td>212.02</td>\n",
       "      <td>851.73</td>\n",
       "      <td>2.06</td>\n",
       "      <td>10.88</td>\n",
       "      <td>1864.57</td>\n",
       "      <td>NaN</td>\n",
       "      <td>NaN</td>\n",
       "      <td>False</td>\n",
       "    </tr>\n",
       "  </tbody>\n",
       "</table>\n",
       "<p>8190 rows × 12 columns</p>\n",
       "</div>"
      ],
      "text/plain": [
       "      Store        Date  Temperature  Fuel_Price  MarkDown1  MarkDown2  \\\n",
       "0         1  05/02/2010        42.31       2.572        NaN        NaN   \n",
       "1         1  12/02/2010        38.51       2.548        NaN        NaN   \n",
       "2         1  19/02/2010        39.93       2.514        NaN        NaN   \n",
       "3         1  26/02/2010        46.63       2.561        NaN        NaN   \n",
       "4         1  05/03/2010        46.50       2.625        NaN        NaN   \n",
       "...     ...         ...          ...         ...        ...        ...   \n",
       "8185     45  28/06/2013        76.05       3.639    4842.29     975.03   \n",
       "8186     45  05/07/2013        77.50       3.614    9090.48    2268.58   \n",
       "8187     45  12/07/2013        79.37       3.614    3789.94    1827.31   \n",
       "8188     45  19/07/2013        82.84       3.737    2961.49    1047.07   \n",
       "8189     45  26/07/2013        76.06       3.804     212.02     851.73   \n",
       "\n",
       "      MarkDown3  MarkDown4  MarkDown5         CPI  Unemployment  IsHoliday  \n",
       "0           NaN        NaN        NaN  211.096358         8.106      False  \n",
       "1           NaN        NaN        NaN  211.242170         8.106       True  \n",
       "2           NaN        NaN        NaN  211.289143         8.106      False  \n",
       "3           NaN        NaN        NaN  211.319643         8.106      False  \n",
       "4           NaN        NaN        NaN  211.350143         8.106      False  \n",
       "...         ...        ...        ...         ...           ...        ...  \n",
       "8185       3.00    2449.97    3169.69         NaN           NaN      False  \n",
       "8186     582.74    5797.47    1514.93         NaN           NaN      False  \n",
       "8187      85.72     744.84    2150.36         NaN           NaN      False  \n",
       "8188     204.19     363.00    1059.46         NaN           NaN      False  \n",
       "8189       2.06      10.88    1864.57         NaN           NaN      False  \n",
       "\n",
       "[8190 rows x 12 columns]"
      ]
     },
     "execution_count": 27,
     "metadata": {},
     "output_type": "execute_result"
    }
   ],
   "source": [
    "df_features  #Tally of features data"
   ]
  },
  {
   "cell_type": "markdown",
   "id": "f058bf1d",
   "metadata": {
    "papermill": {
     "duration": 0.020448,
     "end_time": "2022-12-20T17:56:17.833943",
     "exception": false,
     "start_time": "2022-12-20T17:56:17.813495",
     "status": "completed"
    },
    "tags": []
   },
   "source": [
    "**Types of stores from features data\n",
    "**\n",
    "Market cover of particuar type of store\n"
   ]
  },
  {
   "cell_type": "code",
   "execution_count": 28,
   "id": "f4bb44fd",
   "metadata": {
    "execution": {
     "iopub.execute_input": "2022-12-20T17:56:17.878398Z",
     "iopub.status.busy": "2022-12-20T17:56:17.877136Z",
     "iopub.status.idle": "2022-12-20T17:56:18.139413Z",
     "shell.execute_reply": "2022-12-20T17:56:18.137678Z"
    },
    "papermill": {
     "duration": 0.289231,
     "end_time": "2022-12-20T17:56:18.144021",
     "exception": false,
     "start_time": "2022-12-20T17:56:17.854790",
     "status": "completed"
    },
    "tags": []
   },
   "outputs": [
    {
     "data": {
      "image/png": "[encoded data removed]",
      "text/plain": [
       "<Figure size 432x288 with 1 Axes>"
      ]
     },
     "metadata": {},
     "output_type": "display_data"
    }
   ],
   "source": [
    "labels = 'store A','store B','store C'\n",
    "sizes = [(22/(45))*100,(17/(45))*100,(6/(45))*100]\n",
    "colors = ['gold', 'yellowgreen', 'lightcoral']\n",
    "explode = (0.1, 0, 0)  # explode 1st slice                               \n",
    "\n",
    "# Plot\n",
    "plt.pie(sizes, explode=explode, labels=labels, colors=colors,\n",
    "autopct='%1.1f%%', shadow=True, startangle=140)\n",
    "plt.legend(labels, loc=\"best\")\n",
    "plt.axis('equal')\n",
    "plt.show()"
   ]
  },
  {
   "cell_type": "markdown",
   "id": "fc0bca76",
   "metadata": {
    "papermill": {
     "duration": 0.020737,
     "end_time": "2022-12-20T17:56:18.190111",
     "exception": false,
     "start_time": "2022-12-20T17:56:18.169374",
     "status": "completed"
    },
    "tags": []
   },
   "source": [
    "Store data analysis."
   ]
  },
  {
   "cell_type": "code",
   "execution_count": 29,
   "id": "174c87bf",
   "metadata": {
    "execution": {
     "iopub.execute_input": "2022-12-20T17:56:18.234685Z",
     "iopub.status.busy": "2022-12-20T17:56:18.233659Z",
     "iopub.status.idle": "2022-12-20T17:56:18.241769Z",
     "shell.execute_reply": "2022-12-20T17:56:18.240707Z"
    },
    "papermill": {
     "duration": 0.033274,
     "end_time": "2022-12-20T17:56:18.244361",
     "exception": false,
     "start_time": "2022-12-20T17:56:18.211087",
     "status": "completed"
    },
    "tags": []
   },
   "outputs": [],
   "source": [
    "df_store = pd.read_csv('/kaggle/input/retaildataset/stores data-set.csv')"
   ]
  },
  {
   "cell_type": "code",
   "execution_count": 30,
   "id": "521915a3",
   "metadata": {
    "execution": {
     "iopub.execute_input": "2022-12-20T17:56:18.289680Z",
     "iopub.status.busy": "2022-12-20T17:56:18.289200Z",
     "iopub.status.idle": "2022-12-20T17:56:19.829265Z",
     "shell.execute_reply": "2022-12-20T17:56:19.828230Z"
    },
    "papermill": {
     "duration": 1.565815,
     "end_time": "2022-12-20T17:56:19.831817",
     "exception": false,
     "start_time": "2022-12-20T17:56:18.266002",
     "status": "completed"
    },
    "tags": []
   },
   "outputs": [
    {
     "data": {
      "image/png": "[encoded data removed]",
      "text/plain": [
       "<Figure size 576x432 with 1 Axes>"
      ]
     },
     "metadata": {
      "needs_background": "light"
     },
     "output_type": "display_data"
    }
   ],
   "source": [
    "import seaborn as sns\n",
    "store_type = pd.concat([df_store['Type'], df_store['Size']], axis=1)\n",
    "f, ax = plt.subplots(figsize=(8, 6))\n",
    "fig = sns.boxplot(x='Type', y='Size', data=store_type)"
   ]
  },
  {
   "cell_type": "markdown",
   "id": "6bab8237",
   "metadata": {
    "papermill": {
     "duration": 0.020939,
     "end_time": "2022-12-20T17:56:19.874368",
     "exception": false,
     "start_time": "2022-12-20T17:56:19.853429",
     "status": "completed"
    },
    "tags": []
   },
   "source": [
    "1. There are 45 stores in total.\n",
    "2. There are a total of 3 types of stores: Type A, B, and C.\n",
    "3. By boxplot and piechart, we can say that type A store is the largest store and C is the smallest"
   ]
  },
  {
   "cell_type": "code",
   "execution_count": 31,
   "id": "f3f0aa20",
   "metadata": {
    "execution": {
     "iopub.execute_input": "2022-12-20T17:56:19.920505Z",
     "iopub.status.busy": "2022-12-20T17:56:19.919757Z",
     "iopub.status.idle": "2022-12-20T17:56:19.930492Z",
     "shell.execute_reply": "2022-12-20T17:56:19.929324Z"
    },
    "papermill": {
     "duration": 0.03732,
     "end_time": "2022-12-20T17:56:19.933116",
     "exception": false,
     "start_time": "2022-12-20T17:56:19.895796",
     "status": "completed"
    },
    "tags": []
   },
   "outputs": [
    {
     "data": {
      "text/html": [
       "<div>\n",
       "<style scoped>\n",
       "    .dataframe tbody tr th:only-of-type {\n",
       "        vertical-align: middle;\n",
       "    }\n",
       "\n",
       "    .dataframe tbody tr th {\n",
       "        vertical-align: top;\n",
       "    }\n",
       "\n",
       "    .dataframe thead th {\n",
       "        text-align: right;\n",
       "    }\n",
       "</style>\n",
       "<table border=\"1\" class=\"dataframe\">\n",
       "  <thead>\n",
       "    <tr style=\"text-align: right;\">\n",
       "      <th></th>\n",
       "      <th>Store</th>\n",
       "      <th>Type</th>\n",
       "      <th>Size</th>\n",
       "    </tr>\n",
       "  </thead>\n",
       "  <tbody>\n",
       "    <tr>\n",
       "      <th>0</th>\n",
       "      <td>1</td>\n",
       "      <td>A</td>\n",
       "      <td>151315</td>\n",
       "    </tr>\n",
       "    <tr>\n",
       "      <th>1</th>\n",
       "      <td>2</td>\n",
       "      <td>A</td>\n",
       "      <td>202307</td>\n",
       "    </tr>\n",
       "    <tr>\n",
       "      <th>2</th>\n",
       "      <td>3</td>\n",
       "      <td>B</td>\n",
       "      <td>37392</td>\n",
       "    </tr>\n",
       "    <tr>\n",
       "      <th>3</th>\n",
       "      <td>4</td>\n",
       "      <td>A</td>\n",
       "      <td>205863</td>\n",
       "    </tr>\n",
       "    <tr>\n",
       "      <th>4</th>\n",
       "      <td>5</td>\n",
       "      <td>B</td>\n",
       "      <td>34875</td>\n",
       "    </tr>\n",
       "  </tbody>\n",
       "</table>\n",
       "</div>"
      ],
      "text/plain": [
       "   Store Type    Size\n",
       "0      1    A  151315\n",
       "1      2    A  202307\n",
       "2      3    B   37392\n",
       "3      4    A  205863\n",
       "4      5    B   34875"
      ]
     },
     "execution_count": 31,
     "metadata": {},
     "output_type": "execute_result"
    }
   ],
   "source": [
    "df_store.head(5)                #Types of store and size"
   ]
  },
  {
   "cell_type": "code",
   "execution_count": 32,
   "id": "343d6bcc",
   "metadata": {
    "execution": {
     "iopub.execute_input": "2022-12-20T17:56:19.979067Z",
     "iopub.status.busy": "2022-12-20T17:56:19.978330Z",
     "iopub.status.idle": "2022-12-20T17:56:19.984664Z",
     "shell.execute_reply": "2022-12-20T17:56:19.983747Z"
    },
    "papermill": {
     "duration": 0.031976,
     "end_time": "2022-12-20T17:56:19.987021",
     "exception": false,
     "start_time": "2022-12-20T17:56:19.955045",
     "status": "completed"
    },
    "tags": []
   },
   "outputs": [
    {
     "data": {
      "text/plain": [
       "Index(['Store', 'Dept', 'Date', 'Weekly_Sales', 'IsHoliday'], dtype='object')"
      ]
     },
     "execution_count": 32,
     "metadata": {},
     "output_type": "execute_result"
    }
   ],
   "source": [
    "df.columns"
   ]
  },
  {
   "cell_type": "code",
   "execution_count": 33,
   "id": "3ae9348e",
   "metadata": {
    "execution": {
     "iopub.execute_input": "2022-12-20T17:56:20.033261Z",
     "iopub.status.busy": "2022-12-20T17:56:20.032502Z",
     "iopub.status.idle": "2022-12-20T17:56:20.051824Z",
     "shell.execute_reply": "2022-12-20T17:56:20.050722Z"
    },
    "papermill": {
     "duration": 0.045632,
     "end_time": "2022-12-20T17:56:20.054679",
     "exception": false,
     "start_time": "2022-12-20T17:56:20.009047",
     "status": "completed"
    },
    "tags": []
   },
   "outputs": [],
   "source": [
    "total_sale_by_stores_overall = df.groupby(df['Store'])['Weekly_Sales'].sum().sort_values()  #Total sale by all stores"
   ]
  },
  {
   "cell_type": "code",
   "execution_count": 34,
   "id": "9ae55a6b",
   "metadata": {
    "execution": {
     "iopub.execute_input": "2022-12-20T17:56:20.101508Z",
     "iopub.status.busy": "2022-12-20T17:56:20.100794Z",
     "iopub.status.idle": "2022-12-20T17:56:20.110224Z",
     "shell.execute_reply": "2022-12-20T17:56:20.109236Z"
    },
    "papermill": {
     "duration": 0.035021,
     "end_time": "2022-12-20T17:56:20.112554",
     "exception": false,
     "start_time": "2022-12-20T17:56:20.077533",
     "status": "completed"
    },
    "tags": []
   },
   "outputs": [
    {
     "data": {
      "text/plain": [
       "Store\n",
       "33    3.716022e+07\n",
       "44    4.329309e+07\n",
       "5     4.547569e+07\n",
       "36    5.341221e+07\n",
       "38    5.515963e+07\n",
       "3     5.758674e+07\n",
       "30    6.271689e+07\n",
       "37    7.420274e+07\n",
       "16    7.425243e+07\n",
       "29    7.714155e+07\n",
       "9     7.778922e+07\n",
       "42    7.956575e+07\n",
       "7     8.159828e+07\n",
       "15    8.913368e+07\n",
       "43    9.056544e+07\n",
       "25    1.010612e+08\n",
       "21    1.081179e+08\n",
       "45    1.123953e+08\n",
       "17    1.277821e+08\n",
       "8     1.299512e+08\n",
       "35    1.315207e+08\n",
       "40    1.378703e+08\n",
       "34    1.382498e+08\n",
       "26    1.434164e+08\n",
       "12    1.442872e+08\n",
       "22    1.470756e+08\n",
       "18    1.551147e+08\n",
       "32    1.668192e+08\n",
       "41    1.813419e+08\n",
       "28    1.892637e+08\n",
       "11    1.939628e+08\n",
       "24    1.940160e+08\n",
       "23    1.987506e+08\n",
       "31    1.996139e+08\n",
       "19    2.066349e+08\n",
       "39    2.074455e+08\n",
       "1     2.224028e+08\n",
       "6     2.237561e+08\n",
       "27    2.538559e+08\n",
       "10    2.716177e+08\n",
       "2     2.753824e+08\n",
       "13    2.865177e+08\n",
       "14    2.889999e+08\n",
       "4     2.995440e+08\n",
       "20    3.013978e+08\n",
       "Name: Weekly_Sales, dtype: float64"
      ]
     },
     "execution_count": 34,
     "metadata": {},
     "output_type": "execute_result"
    }
   ],
   "source": [
    "total_sale_by_stores_overall  #Store number and their sales of overall tenure"
   ]
  },
  {
   "cell_type": "code",
   "execution_count": 35,
   "id": "706d8386",
   "metadata": {
    "execution": {
     "iopub.execute_input": "2022-12-20T17:56:20.158905Z",
     "iopub.status.busy": "2022-12-20T17:56:20.158135Z",
     "iopub.status.idle": "2022-12-20T17:56:20.410351Z",
     "shell.execute_reply": "2022-12-20T17:56:20.409089Z"
    },
    "papermill": {
     "duration": 0.279191,
     "end_time": "2022-12-20T17:56:20.413502",
     "exception": false,
     "start_time": "2022-12-20T17:56:20.134311",
     "status": "completed"
    },
    "tags": []
   },
   "outputs": [
    {
     "data": {
      "text/plain": [
       "Text(0, 0.5, 'Store frequency')"
      ]
     },
     "execution_count": 35,
     "metadata": {},
     "output_type": "execute_result"
    },
    {
     "data": {
      "image/png": "[encoded data removed]",
      "text/plain": [
       "<Figure size 432x288 with 1 Axes>"
      ]
     },
     "metadata": {
      "needs_background": "light"
     },
     "output_type": "display_data"
    }
   ],
   "source": [
    "import numpy as np\n",
    "y = np.arange(1,46,1)                       #Explains how stores are performing on basis of frequency.\n",
    "plt.hist(total_sale_by_stores_overall)\n",
    "plt.xlabel(\"Sales in dollars\")\n",
    "plt.ylabel(\"Store frequency\")"
   ]
  },
  {
   "cell_type": "code",
   "execution_count": 36,
   "id": "a85fb4b5",
   "metadata": {
    "execution": {
     "iopub.execute_input": "2022-12-20T17:56:20.460511Z",
     "iopub.status.busy": "2022-12-20T17:56:20.460038Z",
     "iopub.status.idle": "2022-12-20T17:56:20.467469Z",
     "shell.execute_reply": "2022-12-20T17:56:20.466528Z"
    },
    "papermill": {
     "duration": 0.033705,
     "end_time": "2022-12-20T17:56:20.469786",
     "exception": false,
     "start_time": "2022-12-20T17:56:20.436081",
     "status": "completed"
    },
    "tags": []
   },
   "outputs": [],
   "source": [
    "df_store_and_sales = pd.DataFrame({'Store_no':[ 1,  2,  3,  4,  5,  6,  7,  8,  9, 10, 11, 12, 13, 14, 15, 16, 17,18, 19, 20, 21, 22, 23, 24, 25, 26, 27, 28, 29, 30, 31, 32, 33, 34,35, 36, 37, 38, 39, 40, 41, 42, 43, 44, 45],'Sales':total_sale_by_stores_overall})"
   ]
  },
  {
   "cell_type": "code",
   "execution_count": 37,
   "id": "5221f1ed",
   "metadata": {
    "execution": {
     "iopub.execute_input": "2022-12-20T17:56:20.516888Z",
     "iopub.status.busy": "2022-12-20T17:56:20.516069Z",
     "iopub.status.idle": "2022-12-20T17:56:20.742219Z",
     "shell.execute_reply": "2022-12-20T17:56:20.740965Z"
    },
    "papermill": {
     "duration": 0.252829,
     "end_time": "2022-12-20T17:56:20.745321",
     "exception": false,
     "start_time": "2022-12-20T17:56:20.492492",
     "status": "completed"
    },
    "tags": []
   },
   "outputs": [
    {
     "data": {
      "text/plain": [
       "Text(0, 0.5, 'Sales')"
      ]
     },
     "execution_count": 37,
     "metadata": {},
     "output_type": "execute_result"
    },
    {
     "data": {
      "image/png": "[encoded data removed]",
      "text/plain": [
       "<Figure size 432x288 with 1 Axes>"
      ]
     },
     "metadata": {
      "needs_background": "light"
     },
     "output_type": "display_data"
    }
   ],
   "source": [
    "plt.scatter(df_store_and_sales['Store_no'],df_store_and_sales['Sales'])   #Plot showing as size of store grows ,sale also grows.\n",
    "plt.xlabel('Store no')\n",
    "plt.ylabel('Sales')                          #Store number given according to size of store."
   ]
  },
  {
   "cell_type": "code",
   "execution_count": 38,
   "id": "2663403a",
   "metadata": {
    "execution": {
     "iopub.execute_input": "2022-12-20T17:56:20.791952Z",
     "iopub.status.busy": "2022-12-20T17:56:20.790726Z",
     "iopub.status.idle": "2022-12-20T17:56:20.810727Z",
     "shell.execute_reply": "2022-12-20T17:56:20.809597Z"
    },
    "papermill": {
     "duration": 0.04656,
     "end_time": "2022-12-20T17:56:20.813914",
     "exception": false,
     "start_time": "2022-12-20T17:56:20.767354",
     "status": "completed"
    },
    "tags": []
   },
   "outputs": [],
   "source": [
    "total_sale_by_dept_overall = df.groupby(df['Dept'])['Weekly_Sales'].sum().sort_values() #Department wise sales"
   ]
  },
  {
   "cell_type": "code",
   "execution_count": 39,
   "id": "d2344685",
   "metadata": {
    "execution": {
     "iopub.execute_input": "2022-12-20T17:56:20.860698Z",
     "iopub.status.busy": "2022-12-20T17:56:20.860266Z",
     "iopub.status.idle": "2022-12-20T17:56:20.866481Z",
     "shell.execute_reply": "2022-12-20T17:56:20.865057Z"
    },
    "papermill": {
     "duration": 0.032395,
     "end_time": "2022-12-20T17:56:20.869004",
     "exception": false,
     "start_time": "2022-12-20T17:56:20.836609",
     "status": "completed"
    },
    "tags": []
   },
   "outputs": [],
   "source": [
    "total_sale_by_dept_overall_df = pd.DataFrame({'Store':total_sale_by_dept_overall.index, 'list':total_sale_by_dept_overall.values})"
   ]
  },
  {
   "cell_type": "code",
   "execution_count": 40,
   "id": "a482f9b1",
   "metadata": {
    "execution": {
     "iopub.execute_input": "2022-12-20T17:56:20.916460Z",
     "iopub.status.busy": "2022-12-20T17:56:20.915994Z",
     "iopub.status.idle": "2022-12-20T17:56:21.150371Z",
     "shell.execute_reply": "2022-12-20T17:56:21.148858Z"
    },
    "papermill": {
     "duration": 0.26145,
     "end_time": "2022-12-20T17:56:21.153122",
     "exception": false,
     "start_time": "2022-12-20T17:56:20.891672",
     "status": "completed"
    },
    "tags": []
   },
   "outputs": [
    {
     "data": {
      "text/plain": [
       "Text(0, 0.5, 'Sales by department')"
      ]
     },
     "execution_count": 40,
     "metadata": {},
     "output_type": "execute_result"
    },
    {
     "data": {
      "image/png": "[encoded data removed]",
      "text/plain": [
       "<Figure size 432x288 with 1 Axes>"
      ]
     },
     "metadata": {
      "needs_background": "light"
     },
     "output_type": "display_data"
    }
   ],
   "source": [
    "plt.scatter(total_sale_by_dept_overall_df['Store'],total_sale_by_dept_overall_df['list'])\n",
    "plt.xlabel('Department')\n",
    "plt.ylabel('Sales by department')           #Department wise sales of overall tenure\n",
    "                                            #We can see dept 20 - 60 dont sell above 10000 dollars"
   ]
  },
  {
   "cell_type": "code",
   "execution_count": 41,
   "id": "6149b18b",
   "metadata": {
    "execution": {
     "iopub.execute_input": "2022-12-20T17:56:21.202471Z",
     "iopub.status.busy": "2022-12-20T17:56:21.202018Z",
     "iopub.status.idle": "2022-12-20T17:56:21.212058Z",
     "shell.execute_reply": "2022-12-20T17:56:21.210353Z"
    },
    "papermill": {
     "duration": 0.037803,
     "end_time": "2022-12-20T17:56:21.215026",
     "exception": false,
     "start_time": "2022-12-20T17:56:21.177223",
     "status": "completed"
    },
    "tags": []
   },
   "outputs": [],
   "source": [
    "df_features['Date'] = pd.to_datetime(df_features['Date'])"
   ]
  },
  {
   "cell_type": "code",
   "execution_count": 42,
   "id": "e3dd7cd2",
   "metadata": {
    "execution": {
     "iopub.execute_input": "2022-12-20T17:56:21.263162Z",
     "iopub.status.busy": "2022-12-20T17:56:21.262700Z",
     "iopub.status.idle": "2022-12-20T17:56:23.971348Z",
     "shell.execute_reply": "2022-12-20T17:56:23.970117Z"
    },
    "papermill": {
     "duration": 2.735726,
     "end_time": "2022-12-20T17:56:23.974080",
     "exception": false,
     "start_time": "2022-12-20T17:56:21.238354",
     "status": "completed"
    },
    "tags": []
   },
   "outputs": [],
   "source": [
    "df_merged_store_data_and_features = pd.merge(df,df_features,on='Date')"
   ]
  },
  {
   "cell_type": "code",
   "execution_count": 43,
   "id": "f40b13c0",
   "metadata": {
    "execution": {
     "iopub.execute_input": "2022-12-20T17:56:24.021561Z",
     "iopub.status.busy": "2022-12-20T17:56:24.021097Z",
     "iopub.status.idle": "2022-12-20T17:56:26.323027Z",
     "shell.execute_reply": "2022-12-20T17:56:26.321571Z"
    },
    "papermill": {
     "duration": 2.329141,
     "end_time": "2022-12-20T17:56:26.326138",
     "exception": false,
     "start_time": "2022-12-20T17:56:23.996997",
     "status": "completed"
    },
    "tags": []
   },
   "outputs": [],
   "source": [
    "df_merged_store_data_and_features.drop_duplicates('Date',inplace=True)"
   ]
  },
  {
   "cell_type": "raw",
   "id": "833fef31",
   "metadata": {
    "papermill": {
     "duration": 0.023155,
     "end_time": "2022-12-20T17:56:26.372620",
     "exception": false,
     "start_time": "2022-12-20T17:56:26.349465",
     "status": "completed"
    },
    "tags": []
   },
   "source": [
    "Correlation between Holiday and weekly sales == 0.01277 , low positive correlation."
   ]
  },
  {
   "cell_type": "code",
   "execution_count": 44,
   "id": "50d06da9",
   "metadata": {
    "execution": {
     "iopub.execute_input": "2022-12-20T17:56:26.420993Z",
     "iopub.status.busy": "2022-12-20T17:56:26.420546Z",
     "iopub.status.idle": "2022-12-20T17:56:26.430076Z",
     "shell.execute_reply": "2022-12-20T17:56:26.428062Z"
    },
    "papermill": {
     "duration": 0.038124,
     "end_time": "2022-12-20T17:56:26.433547",
     "exception": false,
     "start_time": "2022-12-20T17:56:26.395423",
     "status": "completed"
    },
    "tags": []
   },
   "outputs": [
    {
     "name": "stdout",
     "output_type": "stream",
     "text": [
      "Correlation between Weekly Sales and IsHoliday: 0.09006090476542446\n"
     ]
    }
   ],
   "source": [
    "print('Correlation between Weekly Sales and IsHoliday:',df_merged_store_data_and_features['Weekly_Sales'].corr(df_merged_store_data_and_features['IsHoliday_x']))"
   ]
  },
  {
   "cell_type": "code",
   "execution_count": 45,
   "id": "61e0fadf",
   "metadata": {
    "execution": {
     "iopub.execute_input": "2022-12-20T17:56:26.483584Z",
     "iopub.status.busy": "2022-12-20T17:56:26.483156Z",
     "iopub.status.idle": "2022-12-20T17:56:26.727856Z",
     "shell.execute_reply": "2022-12-20T17:56:26.726484Z"
    },
    "papermill": {
     "duration": 0.27293,
     "end_time": "2022-12-20T17:56:26.730527",
     "exception": false,
     "start_time": "2022-12-20T17:56:26.457597",
     "status": "completed"
    },
    "tags": []
   },
   "outputs": [
    {
     "data": {
      "text/plain": [
       "Text(0, 0.5, 'Holiday(Y/N)')"
      ]
     },
     "execution_count": 45,
     "metadata": {},
     "output_type": "execute_result"
    },
    {
     "data": {
      "image/png": "[encoded data removed]",
      "text/plain": [
       "<Figure size 432x288 with 1 Axes>"
      ]
     },
     "metadata": {
      "needs_background": "light"
     },
     "output_type": "display_data"
    }
   ],
   "source": [
    "plt.scatter(df_merged_store_data_and_features['Weekly_Sales'],df_merged_store_data_and_features['IsHoliday_x'])\n",
    "plt.title('1 on y axis represents Holiday = True and 0 n y axis represents Holiday = False')\n",
    "plt.xlabel('Sales')\n",
    "plt.ylabel('Holiday(Y/N)')                           #Plot showing sales on / not on holidays => on holidays sales goes up to\n",
    "                                                    #700000 dollars"
   ]
  },
  {
   "cell_type": "markdown",
   "id": "9aecc31f",
   "metadata": {
    "papermill": {
     "duration": 0.023383,
     "end_time": "2022-12-20T17:56:26.777097",
     "exception": false,
     "start_time": "2022-12-20T17:56:26.753714",
     "status": "completed"
    },
    "tags": []
   },
   "source": [
    "Shows almost no correlation between Sales and Customer Price Index (-ve correlation) [one increase other decreases]"
   ]
  },
  {
   "cell_type": "code",
   "execution_count": 46,
   "id": "1677d773",
   "metadata": {
    "execution": {
     "iopub.execute_input": "2022-12-20T17:56:26.825424Z",
     "iopub.status.busy": "2022-12-20T17:56:26.824896Z",
     "iopub.status.idle": "2022-12-20T17:56:26.833105Z",
     "shell.execute_reply": "2022-12-20T17:56:26.831765Z"
    },
    "papermill": {
     "duration": 0.037109,
     "end_time": "2022-12-20T17:56:26.837311",
     "exception": false,
     "start_time": "2022-12-20T17:56:26.800202",
     "status": "completed"
    },
    "tags": []
   },
   "outputs": [
    {
     "name": "stdout",
     "output_type": "stream",
     "text": [
      "Correlation between Weekly Sales and CPI: -0.0435326936506556\n"
     ]
    }
   ],
   "source": [
    "print('Correlation between Weekly Sales and CPI:',df_merged_store_data_and_features['Weekly_Sales'].corr(df_merged_store_data_and_features['CPI']))"
   ]
  },
  {
   "cell_type": "code",
   "execution_count": 47,
   "id": "662510ad",
   "metadata": {
    "execution": {
     "iopub.execute_input": "2022-12-20T17:56:26.891190Z",
     "iopub.status.busy": "2022-12-20T17:56:26.890245Z",
     "iopub.status.idle": "2022-12-20T17:56:27.206580Z",
     "shell.execute_reply": "2022-12-20T17:56:27.205377Z"
    },
    "papermill": {
     "duration": 0.347835,
     "end_time": "2022-12-20T17:56:27.209450",
     "exception": false,
     "start_time": "2022-12-20T17:56:26.861615",
     "status": "completed"
    },
    "tags": []
   },
   "outputs": [
    {
     "data": {
      "text/plain": [
       "Text(0, 0.5, 'CPI')"
      ]
     },
     "execution_count": 47,
     "metadata": {},
     "output_type": "execute_result"
    },
    {
     "data": {
      "image/png": "[encoded data removed]",
      "text/plain": [
       "<Figure size 432x288 with 1 Axes>"
      ]
     },
     "metadata": {
      "needs_background": "light"
     },
     "output_type": "display_data"
    }
   ],
   "source": [
    "plt.rcParams['agg.path.chunksize'] = 100\n",
    "plt.plot(df_merged_store_data_and_features['Date'],df_merged_store_data_and_features['CPI'])\n",
    "plt.xlabel('Date')\n",
    "plt.ylabel('CPI')                      #Analysis shows CPI has gone up, but less correlation"
   ]
  },
  {
   "cell_type": "code",
   "execution_count": 48,
   "id": "c4db90ee",
   "metadata": {
    "_kg_hide-input": true,
    "_kg_hide-output": true,
    "execution": {
     "iopub.execute_input": "2022-12-20T17:56:27.259398Z",
     "iopub.status.busy": "2022-12-20T17:56:27.258631Z",
     "iopub.status.idle": "2022-12-20T17:56:27.292258Z",
     "shell.execute_reply": "2022-12-20T17:56:27.290909Z"
    },
    "papermill": {
     "duration": 0.061115,
     "end_time": "2022-12-20T17:56:27.294717",
     "exception": false,
     "start_time": "2022-12-20T17:56:27.233602",
     "status": "completed"
    },
    "tags": []
   },
   "outputs": [
    {
     "data": {
      "text/html": [
       "<div>\n",
       "<style scoped>\n",
       "    .dataframe tbody tr th:only-of-type {\n",
       "        vertical-align: middle;\n",
       "    }\n",
       "\n",
       "    .dataframe tbody tr th {\n",
       "        vertical-align: top;\n",
       "    }\n",
       "\n",
       "    .dataframe thead th {\n",
       "        text-align: right;\n",
       "    }\n",
       "</style>\n",
       "<table border=\"1\" class=\"dataframe\">\n",
       "  <thead>\n",
       "    <tr style=\"text-align: right;\">\n",
       "      <th></th>\n",
       "      <th>Store_x</th>\n",
       "      <th>Dept</th>\n",
       "      <th>Date</th>\n",
       "      <th>Weekly_Sales</th>\n",
       "      <th>IsHoliday_x</th>\n",
       "      <th>Store_y</th>\n",
       "      <th>Temperature</th>\n",
       "      <th>Fuel_Price</th>\n",
       "      <th>MarkDown1</th>\n",
       "      <th>MarkDown2</th>\n",
       "      <th>MarkDown3</th>\n",
       "      <th>MarkDown4</th>\n",
       "      <th>MarkDown5</th>\n",
       "      <th>CPI</th>\n",
       "      <th>Unemployment</th>\n",
       "      <th>IsHoliday_y</th>\n",
       "    </tr>\n",
       "  </thead>\n",
       "  <tbody>\n",
       "    <tr>\n",
       "      <th>0</th>\n",
       "      <td>1</td>\n",
       "      <td>1</td>\n",
       "      <td>2010-05-02</td>\n",
       "      <td>24924.50</td>\n",
       "      <td>False</td>\n",
       "      <td>1</td>\n",
       "      <td>42.31</td>\n",
       "      <td>2.572</td>\n",
       "      <td>NaN</td>\n",
       "      <td>NaN</td>\n",
       "      <td>NaN</td>\n",
       "      <td>NaN</td>\n",
       "      <td>NaN</td>\n",
       "      <td>211.096358</td>\n",
       "      <td>8.106</td>\n",
       "      <td>False</td>\n",
       "    </tr>\n",
       "    <tr>\n",
       "      <th>132975</th>\n",
       "      <td>1</td>\n",
       "      <td>1</td>\n",
       "      <td>2010-12-02</td>\n",
       "      <td>46039.49</td>\n",
       "      <td>True</td>\n",
       "      <td>1</td>\n",
       "      <td>38.51</td>\n",
       "      <td>2.548</td>\n",
       "      <td>NaN</td>\n",
       "      <td>NaN</td>\n",
       "      <td>NaN</td>\n",
       "      <td>NaN</td>\n",
       "      <td>NaN</td>\n",
       "      <td>211.242170</td>\n",
       "      <td>8.106</td>\n",
       "      <td>True</td>\n",
       "    </tr>\n",
       "    <tr>\n",
       "      <th>265995</th>\n",
       "      <td>1</td>\n",
       "      <td>1</td>\n",
       "      <td>2010-02-19</td>\n",
       "      <td>41595.55</td>\n",
       "      <td>False</td>\n",
       "      <td>1</td>\n",
       "      <td>39.93</td>\n",
       "      <td>2.514</td>\n",
       "      <td>NaN</td>\n",
       "      <td>NaN</td>\n",
       "      <td>NaN</td>\n",
       "      <td>NaN</td>\n",
       "      <td>NaN</td>\n",
       "      <td>211.289143</td>\n",
       "      <td>8.106</td>\n",
       "      <td>False</td>\n",
       "    </tr>\n",
       "    <tr>\n",
       "      <th>399960</th>\n",
       "      <td>1</td>\n",
       "      <td>1</td>\n",
       "      <td>2010-02-26</td>\n",
       "      <td>19403.54</td>\n",
       "      <td>False</td>\n",
       "      <td>1</td>\n",
       "      <td>46.63</td>\n",
       "      <td>2.561</td>\n",
       "      <td>NaN</td>\n",
       "      <td>NaN</td>\n",
       "      <td>NaN</td>\n",
       "      <td>NaN</td>\n",
       "      <td>NaN</td>\n",
       "      <td>211.319643</td>\n",
       "      <td>8.106</td>\n",
       "      <td>False</td>\n",
       "    </tr>\n",
       "    <tr>\n",
       "      <th>532755</th>\n",
       "      <td>1</td>\n",
       "      <td>1</td>\n",
       "      <td>2010-05-03</td>\n",
       "      <td>21827.90</td>\n",
       "      <td>False</td>\n",
       "      <td>1</td>\n",
       "      <td>46.50</td>\n",
       "      <td>2.625</td>\n",
       "      <td>NaN</td>\n",
       "      <td>NaN</td>\n",
       "      <td>NaN</td>\n",
       "      <td>NaN</td>\n",
       "      <td>NaN</td>\n",
       "      <td>211.350143</td>\n",
       "      <td>8.106</td>\n",
       "      <td>False</td>\n",
       "    </tr>\n",
       "    <tr>\n",
       "      <th>...</th>\n",
       "      <td>...</td>\n",
       "      <td>...</td>\n",
       "      <td>...</td>\n",
       "      <td>...</td>\n",
       "      <td>...</td>\n",
       "      <td>...</td>\n",
       "      <td>...</td>\n",
       "      <td>...</td>\n",
       "      <td>...</td>\n",
       "      <td>...</td>\n",
       "      <td>...</td>\n",
       "      <td>...</td>\n",
       "      <td>...</td>\n",
       "      <td>...</td>\n",
       "      <td>...</td>\n",
       "      <td>...</td>\n",
       "    </tr>\n",
       "    <tr>\n",
       "      <th>18302985</th>\n",
       "      <td>1</td>\n",
       "      <td>1</td>\n",
       "      <td>2012-09-28</td>\n",
       "      <td>18947.81</td>\n",
       "      <td>False</td>\n",
       "      <td>1</td>\n",
       "      <td>76.08</td>\n",
       "      <td>3.666</td>\n",
       "      <td>3666.27</td>\n",
       "      <td>7.64</td>\n",
       "      <td>1.65</td>\n",
       "      <td>1417.96</td>\n",
       "      <td>4744.28</td>\n",
       "      <td>222.981658</td>\n",
       "      <td>6.908</td>\n",
       "      <td>False</td>\n",
       "    </tr>\n",
       "    <tr>\n",
       "      <th>18436275</th>\n",
       "      <td>1</td>\n",
       "      <td>1</td>\n",
       "      <td>2012-05-10</td>\n",
       "      <td>21904.47</td>\n",
       "      <td>False</td>\n",
       "      <td>1</td>\n",
       "      <td>68.55</td>\n",
       "      <td>3.617</td>\n",
       "      <td>8077.89</td>\n",
       "      <td>NaN</td>\n",
       "      <td>18.22</td>\n",
       "      <td>3617.43</td>\n",
       "      <td>3626.14</td>\n",
       "      <td>223.181477</td>\n",
       "      <td>6.573</td>\n",
       "      <td>False</td>\n",
       "    </tr>\n",
       "    <tr>\n",
       "      <th>18570195</th>\n",
       "      <td>1</td>\n",
       "      <td>1</td>\n",
       "      <td>2012-12-10</td>\n",
       "      <td>22764.01</td>\n",
       "      <td>False</td>\n",
       "      <td>1</td>\n",
       "      <td>62.99</td>\n",
       "      <td>3.601</td>\n",
       "      <td>2086.18</td>\n",
       "      <td>NaN</td>\n",
       "      <td>8.11</td>\n",
       "      <td>602.36</td>\n",
       "      <td>5926.45</td>\n",
       "      <td>223.381296</td>\n",
       "      <td>6.573</td>\n",
       "      <td>False</td>\n",
       "    </tr>\n",
       "    <tr>\n",
       "      <th>18704745</th>\n",
       "      <td>1</td>\n",
       "      <td>1</td>\n",
       "      <td>2012-10-19</td>\n",
       "      <td>24185.27</td>\n",
       "      <td>False</td>\n",
       "      <td>1</td>\n",
       "      <td>67.97</td>\n",
       "      <td>3.594</td>\n",
       "      <td>950.33</td>\n",
       "      <td>NaN</td>\n",
       "      <td>4.93</td>\n",
       "      <td>80.25</td>\n",
       "      <td>2312.85</td>\n",
       "      <td>223.425723</td>\n",
       "      <td>6.573</td>\n",
       "      <td>False</td>\n",
       "    </tr>\n",
       "    <tr>\n",
       "      <th>18837495</th>\n",
       "      <td>1</td>\n",
       "      <td>1</td>\n",
       "      <td>2012-10-26</td>\n",
       "      <td>27390.81</td>\n",
       "      <td>False</td>\n",
       "      <td>1</td>\n",
       "      <td>69.16</td>\n",
       "      <td>3.506</td>\n",
       "      <td>2585.85</td>\n",
       "      <td>31.75</td>\n",
       "      <td>6.00</td>\n",
       "      <td>1057.16</td>\n",
       "      <td>1305.01</td>\n",
       "      <td>223.444251</td>\n",
       "      <td>6.573</td>\n",
       "      <td>False</td>\n",
       "    </tr>\n",
       "  </tbody>\n",
       "</table>\n",
       "<p>143 rows × 16 columns</p>\n",
       "</div>"
      ],
      "text/plain": [
       "          Store_x  Dept       Date  Weekly_Sales  IsHoliday_x  Store_y  \\\n",
       "0               1     1 2010-05-02      24924.50        False        1   \n",
       "132975          1     1 2010-12-02      46039.49         True        1   \n",
       "265995          1     1 2010-02-19      41595.55        False        1   \n",
       "399960          1     1 2010-02-26      19403.54        False        1   \n",
       "532755          1     1 2010-05-03      21827.90        False        1   \n",
       "...           ...   ...        ...           ...          ...      ...   \n",
       "18302985        1     1 2012-09-28      18947.81        False        1   \n",
       "18436275        1     1 2012-05-10      21904.47        False        1   \n",
       "18570195        1     1 2012-12-10      22764.01        False        1   \n",
       "18704745        1     1 2012-10-19      24185.27        False        1   \n",
       "18837495        1     1 2012-10-26      27390.81        False        1   \n",
       "\n",
       "          Temperature  Fuel_Price  MarkDown1  MarkDown2  MarkDown3  MarkDown4  \\\n",
       "0               42.31       2.572        NaN        NaN        NaN        NaN   \n",
       "132975          38.51       2.548        NaN        NaN        NaN        NaN   \n",
       "265995          39.93       2.514        NaN        NaN        NaN        NaN   \n",
       "399960          46.63       2.561        NaN        NaN        NaN        NaN   \n",
       "532755          46.50       2.625        NaN        NaN        NaN        NaN   \n",
       "...               ...         ...        ...        ...        ...        ...   \n",
       "18302985        76.08       3.666    3666.27       7.64       1.65    1417.96   \n",
       "18436275        68.55       3.617    8077.89        NaN      18.22    3617.43   \n",
       "18570195        62.99       3.601    2086.18        NaN       8.11     602.36   \n",
       "18704745        67.97       3.594     950.33        NaN       4.93      80.25   \n",
       "18837495        69.16       3.506    2585.85      31.75       6.00    1057.16   \n",
       "\n",
       "          MarkDown5         CPI  Unemployment  IsHoliday_y  \n",
       "0               NaN  211.096358         8.106        False  \n",
       "132975          NaN  211.242170         8.106         True  \n",
       "265995          NaN  211.289143         8.106        False  \n",
       "399960          NaN  211.319643         8.106        False  \n",
       "532755          NaN  211.350143         8.106        False  \n",
       "...             ...         ...           ...          ...  \n",
       "18302985    4744.28  222.981658         6.908        False  \n",
       "18436275    3626.14  223.181477         6.573        False  \n",
       "18570195    5926.45  223.381296         6.573        False  \n",
       "18704745    2312.85  223.425723         6.573        False  \n",
       "18837495    1305.01  223.444251         6.573        False  \n",
       "\n",
       "[143 rows x 16 columns]"
      ]
     },
     "execution_count": 48,
     "metadata": {},
     "output_type": "execute_result"
    }
   ],
   "source": [
    "df_merged_store_data_and_features"
   ]
  },
  {
   "cell_type": "markdown",
   "id": "cb77b0fb",
   "metadata": {
    "papermill": {
     "duration": 0.024224,
     "end_time": "2022-12-20T17:56:27.343133",
     "exception": false,
     "start_time": "2022-12-20T17:56:27.318909",
     "status": "completed"
    },
    "tags": []
   },
   "source": [
    "Correlation between Sales and Unemployment. [Positive Correlation approx 0.11, although weak] [increse in one increase other]"
   ]
  },
  {
   "cell_type": "code",
   "execution_count": 49,
   "id": "569b11f8",
   "metadata": {
    "execution": {
     "iopub.execute_input": "2022-12-20T17:56:27.394880Z",
     "iopub.status.busy": "2022-12-20T17:56:27.393630Z",
     "iopub.status.idle": "2022-12-20T17:56:27.402463Z",
     "shell.execute_reply": "2022-12-20T17:56:27.400804Z"
    },
    "papermill": {
     "duration": 0.037006,
     "end_time": "2022-12-20T17:56:27.404738",
     "exception": false,
     "start_time": "2022-12-20T17:56:27.367732",
     "status": "completed"
    },
    "tags": []
   },
   "outputs": [
    {
     "name": "stdout",
     "output_type": "stream",
     "text": [
      "Correlation between Weekly Sales and Unemployment: 0.10339925513962817\n"
     ]
    }
   ],
   "source": [
    "print('Correlation between Weekly Sales and Unemployment:',df_merged_store_data_and_features['Weekly_Sales'].corr(df_merged_store_data_and_features['Unemployment']))"
   ]
  },
  {
   "cell_type": "code",
   "execution_count": 50,
   "id": "d44560ad",
   "metadata": {
    "execution": {
     "iopub.execute_input": "2022-12-20T17:56:27.455384Z",
     "iopub.status.busy": "2022-12-20T17:56:27.454620Z",
     "iopub.status.idle": "2022-12-20T17:56:27.676847Z",
     "shell.execute_reply": "2022-12-20T17:56:27.675875Z"
    },
    "papermill": {
     "duration": 0.250481,
     "end_time": "2022-12-20T17:56:27.679335",
     "exception": false,
     "start_time": "2022-12-20T17:56:27.428854",
     "status": "completed"
    },
    "tags": []
   },
   "outputs": [
    {
     "data": {
      "text/plain": [
       "<matplotlib.collections.PathCollection at 0x7f7c8b1e1810>"
      ]
     },
     "execution_count": 50,
     "metadata": {},
     "output_type": "execute_result"
    },
    {
     "data": {
      "image/png": "[encoded data removed]",
      "text/plain": [
       "<Figure size 432x288 with 1 Axes>"
      ]
     },
     "metadata": {
      "needs_background": "light"
     },
     "output_type": "display_data"
    }
   ],
   "source": [
    "plt.scatter(df_merged_store_data_and_features['Weekly_Sales'],df_merged_store_data_and_features['Unemployment'])"
   ]
  },
  {
   "cell_type": "code",
   "execution_count": 51,
   "id": "b18d61c2",
   "metadata": {
    "execution": {
     "iopub.execute_input": "2022-12-20T17:56:27.730491Z",
     "iopub.status.busy": "2022-12-20T17:56:27.730018Z",
     "iopub.status.idle": "2022-12-20T17:56:27.736823Z",
     "shell.execute_reply": "2022-12-20T17:56:27.735935Z"
    },
    "papermill": {
     "duration": 0.035341,
     "end_time": "2022-12-20T17:56:27.739184",
     "exception": false,
     "start_time": "2022-12-20T17:56:27.703843",
     "status": "completed"
    },
    "tags": []
   },
   "outputs": [
    {
     "name": "stdout",
     "output_type": "stream",
     "text": [
      "Correlation between Weekly Sales and Unemployment: -0.06639580050759054\n"
     ]
    }
   ],
   "source": [
    "print('Correlation between Weekly Sales and Unemployment:',df_merged_store_data_and_features['Weekly_Sales'].corr(df_merged_store_data_and_features['Fuel_Price']))"
   ]
  },
  {
   "cell_type": "code",
   "execution_count": 52,
   "id": "678f10d0",
   "metadata": {
    "execution": {
     "iopub.execute_input": "2022-12-20T17:56:27.791362Z",
     "iopub.status.busy": "2022-12-20T17:56:27.790867Z",
     "iopub.status.idle": "2022-12-20T17:56:27.798137Z",
     "shell.execute_reply": "2022-12-20T17:56:27.796826Z"
    },
    "papermill": {
     "duration": 0.035809,
     "end_time": "2022-12-20T17:56:27.800520",
     "exception": false,
     "start_time": "2022-12-20T17:56:27.764711",
     "status": "completed"
    },
    "tags": []
   },
   "outputs": [],
   "source": [
    "df_of_sale_and_markdowns = df_merged_store_data_and_features[['Date','MarkDown1','MarkDown2','MarkDown3','MarkDown4','MarkDown5','Weekly_Sales']]"
   ]
  },
  {
   "cell_type": "code",
   "execution_count": 53,
   "id": "78584623",
   "metadata": {
    "execution": {
     "iopub.execute_input": "2022-12-20T17:56:27.851911Z",
     "iopub.status.busy": "2022-12-20T17:56:27.851495Z",
     "iopub.status.idle": "2022-12-20T17:56:27.873593Z",
     "shell.execute_reply": "2022-12-20T17:56:27.872299Z"
    },
    "papermill": {
     "duration": 0.050423,
     "end_time": "2022-12-20T17:56:27.876077",
     "exception": false,
     "start_time": "2022-12-20T17:56:27.825654",
     "status": "completed"
    },
    "tags": []
   },
   "outputs": [
    {
     "data": {
      "text/html": [
       "<div>\n",
       "<style scoped>\n",
       "    .dataframe tbody tr th:only-of-type {\n",
       "        vertical-align: middle;\n",
       "    }\n",
       "\n",
       "    .dataframe tbody tr th {\n",
       "        vertical-align: top;\n",
       "    }\n",
       "\n",
       "    .dataframe thead th {\n",
       "        text-align: right;\n",
       "    }\n",
       "</style>\n",
       "<table border=\"1\" class=\"dataframe\">\n",
       "  <thead>\n",
       "    <tr style=\"text-align: right;\">\n",
       "      <th></th>\n",
       "      <th>Date</th>\n",
       "      <th>MarkDown1</th>\n",
       "      <th>MarkDown2</th>\n",
       "      <th>MarkDown3</th>\n",
       "      <th>MarkDown4</th>\n",
       "      <th>MarkDown5</th>\n",
       "      <th>Weekly_Sales</th>\n",
       "    </tr>\n",
       "  </thead>\n",
       "  <tbody>\n",
       "    <tr>\n",
       "      <th>0</th>\n",
       "      <td>2010-05-02</td>\n",
       "      <td>NaN</td>\n",
       "      <td>NaN</td>\n",
       "      <td>NaN</td>\n",
       "      <td>NaN</td>\n",
       "      <td>NaN</td>\n",
       "      <td>24924.50</td>\n",
       "    </tr>\n",
       "    <tr>\n",
       "      <th>132975</th>\n",
       "      <td>2010-12-02</td>\n",
       "      <td>NaN</td>\n",
       "      <td>NaN</td>\n",
       "      <td>NaN</td>\n",
       "      <td>NaN</td>\n",
       "      <td>NaN</td>\n",
       "      <td>46039.49</td>\n",
       "    </tr>\n",
       "    <tr>\n",
       "      <th>265995</th>\n",
       "      <td>2010-02-19</td>\n",
       "      <td>NaN</td>\n",
       "      <td>NaN</td>\n",
       "      <td>NaN</td>\n",
       "      <td>NaN</td>\n",
       "      <td>NaN</td>\n",
       "      <td>41595.55</td>\n",
       "    </tr>\n",
       "    <tr>\n",
       "      <th>399960</th>\n",
       "      <td>2010-02-26</td>\n",
       "      <td>NaN</td>\n",
       "      <td>NaN</td>\n",
       "      <td>NaN</td>\n",
       "      <td>NaN</td>\n",
       "      <td>NaN</td>\n",
       "      <td>19403.54</td>\n",
       "    </tr>\n",
       "    <tr>\n",
       "      <th>532755</th>\n",
       "      <td>2010-05-03</td>\n",
       "      <td>NaN</td>\n",
       "      <td>NaN</td>\n",
       "      <td>NaN</td>\n",
       "      <td>NaN</td>\n",
       "      <td>NaN</td>\n",
       "      <td>21827.90</td>\n",
       "    </tr>\n",
       "    <tr>\n",
       "      <th>...</th>\n",
       "      <td>...</td>\n",
       "      <td>...</td>\n",
       "      <td>...</td>\n",
       "      <td>...</td>\n",
       "      <td>...</td>\n",
       "      <td>...</td>\n",
       "      <td>...</td>\n",
       "    </tr>\n",
       "    <tr>\n",
       "      <th>18302985</th>\n",
       "      <td>2012-09-28</td>\n",
       "      <td>3666.27</td>\n",
       "      <td>7.64</td>\n",
       "      <td>1.65</td>\n",
       "      <td>1417.96</td>\n",
       "      <td>4744.28</td>\n",
       "      <td>18947.81</td>\n",
       "    </tr>\n",
       "    <tr>\n",
       "      <th>18436275</th>\n",
       "      <td>2012-05-10</td>\n",
       "      <td>8077.89</td>\n",
       "      <td>NaN</td>\n",
       "      <td>18.22</td>\n",
       "      <td>3617.43</td>\n",
       "      <td>3626.14</td>\n",
       "      <td>21904.47</td>\n",
       "    </tr>\n",
       "    <tr>\n",
       "      <th>18570195</th>\n",
       "      <td>2012-12-10</td>\n",
       "      <td>2086.18</td>\n",
       "      <td>NaN</td>\n",
       "      <td>8.11</td>\n",
       "      <td>602.36</td>\n",
       "      <td>5926.45</td>\n",
       "      <td>22764.01</td>\n",
       "    </tr>\n",
       "    <tr>\n",
       "      <th>18704745</th>\n",
       "      <td>2012-10-19</td>\n",
       "      <td>950.33</td>\n",
       "      <td>NaN</td>\n",
       "      <td>4.93</td>\n",
       "      <td>80.25</td>\n",
       "      <td>2312.85</td>\n",
       "      <td>24185.27</td>\n",
       "    </tr>\n",
       "    <tr>\n",
       "      <th>18837495</th>\n",
       "      <td>2012-10-26</td>\n",
       "      <td>2585.85</td>\n",
       "      <td>31.75</td>\n",
       "      <td>6.00</td>\n",
       "      <td>1057.16</td>\n",
       "      <td>1305.01</td>\n",
       "      <td>27390.81</td>\n",
       "    </tr>\n",
       "  </tbody>\n",
       "</table>\n",
       "<p>143 rows × 7 columns</p>\n",
       "</div>"
      ],
      "text/plain": [
       "               Date  MarkDown1  MarkDown2  MarkDown3  MarkDown4  MarkDown5  \\\n",
       "0        2010-05-02        NaN        NaN        NaN        NaN        NaN   \n",
       "132975   2010-12-02        NaN        NaN        NaN        NaN        NaN   \n",
       "265995   2010-02-19        NaN        NaN        NaN        NaN        NaN   \n",
       "399960   2010-02-26        NaN        NaN        NaN        NaN        NaN   \n",
       "532755   2010-05-03        NaN        NaN        NaN        NaN        NaN   \n",
       "...             ...        ...        ...        ...        ...        ...   \n",
       "18302985 2012-09-28    3666.27       7.64       1.65    1417.96    4744.28   \n",
       "18436275 2012-05-10    8077.89        NaN      18.22    3617.43    3626.14   \n",
       "18570195 2012-12-10    2086.18        NaN       8.11     602.36    5926.45   \n",
       "18704745 2012-10-19     950.33        NaN       4.93      80.25    2312.85   \n",
       "18837495 2012-10-26    2585.85      31.75       6.00    1057.16    1305.01   \n",
       "\n",
       "          Weekly_Sales  \n",
       "0             24924.50  \n",
       "132975        46039.49  \n",
       "265995        41595.55  \n",
       "399960        19403.54  \n",
       "532755        21827.90  \n",
       "...                ...  \n",
       "18302985      18947.81  \n",
       "18436275      21904.47  \n",
       "18570195      22764.01  \n",
       "18704745      24185.27  \n",
       "18837495      27390.81  \n",
       "\n",
       "[143 rows x 7 columns]"
      ]
     },
     "execution_count": 53,
     "metadata": {},
     "output_type": "execute_result"
    }
   ],
   "source": [
    "df_of_sale_and_markdowns"
   ]
  },
  {
   "cell_type": "code",
   "execution_count": 54,
   "id": "cc017ad2",
   "metadata": {
    "execution": {
     "iopub.execute_input": "2022-12-20T17:56:27.929859Z",
     "iopub.status.busy": "2022-12-20T17:56:27.927919Z",
     "iopub.status.idle": "2022-12-20T17:56:27.936633Z",
     "shell.execute_reply": "2022-12-20T17:56:27.935611Z"
    },
    "papermill": {
     "duration": 0.038134,
     "end_time": "2022-12-20T17:56:27.939112",
     "exception": false,
     "start_time": "2022-12-20T17:56:27.900978",
     "status": "completed"
    },
    "tags": []
   },
   "outputs": [],
   "source": [
    "df_formatted = df_of_sale_and_markdowns.fillna(df_of_sale_and_markdowns['MarkDown1'].mean(skipna=True))"
   ]
  },
  {
   "cell_type": "code",
   "execution_count": 55,
   "id": "f0cb2280",
   "metadata": {
    "execution": {
     "iopub.execute_input": "2022-12-20T17:56:27.991484Z",
     "iopub.status.busy": "2022-12-20T17:56:27.990750Z",
     "iopub.status.idle": "2022-12-20T17:56:27.996262Z",
     "shell.execute_reply": "2022-12-20T17:56:27.995343Z"
    },
    "papermill": {
     "duration": 0.034818,
     "end_time": "2022-12-20T17:56:27.998808",
     "exception": false,
     "start_time": "2022-12-20T17:56:27.963990",
     "status": "completed"
    },
    "tags": []
   },
   "outputs": [],
   "source": [
    "df_formatted.index = np.arange(143)"
   ]
  },
  {
   "cell_type": "code",
   "execution_count": 56,
   "id": "8abbe761",
   "metadata": {
    "execution": {
     "iopub.execute_input": "2022-12-20T17:56:28.052130Z",
     "iopub.status.busy": "2022-12-20T17:56:28.051450Z",
     "iopub.status.idle": "2022-12-20T17:56:28.071006Z",
     "shell.execute_reply": "2022-12-20T17:56:28.069748Z"
    },
    "papermill": {
     "duration": 0.049287,
     "end_time": "2022-12-20T17:56:28.073449",
     "exception": false,
     "start_time": "2022-12-20T17:56:28.024162",
     "status": "completed"
    },
    "tags": []
   },
   "outputs": [
    {
     "data": {
      "text/html": [
       "<div>\n",
       "<style scoped>\n",
       "    .dataframe tbody tr th:only-of-type {\n",
       "        vertical-align: middle;\n",
       "    }\n",
       "\n",
       "    .dataframe tbody tr th {\n",
       "        vertical-align: top;\n",
       "    }\n",
       "\n",
       "    .dataframe thead th {\n",
       "        text-align: right;\n",
       "    }\n",
       "</style>\n",
       "<table border=\"1\" class=\"dataframe\">\n",
       "  <thead>\n",
       "    <tr style=\"text-align: right;\">\n",
       "      <th></th>\n",
       "      <th>Date</th>\n",
       "      <th>MarkDown1</th>\n",
       "      <th>MarkDown2</th>\n",
       "      <th>MarkDown3</th>\n",
       "      <th>MarkDown4</th>\n",
       "      <th>MarkDown5</th>\n",
       "      <th>Weekly_Sales</th>\n",
       "    </tr>\n",
       "  </thead>\n",
       "  <tbody>\n",
       "    <tr>\n",
       "      <th>0</th>\n",
       "      <td>2010-05-02</td>\n",
       "      <td>8090.766275</td>\n",
       "      <td>8090.766275</td>\n",
       "      <td>8090.766275</td>\n",
       "      <td>8090.766275</td>\n",
       "      <td>8090.766275</td>\n",
       "      <td>24924.50</td>\n",
       "    </tr>\n",
       "    <tr>\n",
       "      <th>1</th>\n",
       "      <td>2010-12-02</td>\n",
       "      <td>8090.766275</td>\n",
       "      <td>8090.766275</td>\n",
       "      <td>8090.766275</td>\n",
       "      <td>8090.766275</td>\n",
       "      <td>8090.766275</td>\n",
       "      <td>46039.49</td>\n",
       "    </tr>\n",
       "    <tr>\n",
       "      <th>2</th>\n",
       "      <td>2010-02-19</td>\n",
       "      <td>8090.766275</td>\n",
       "      <td>8090.766275</td>\n",
       "      <td>8090.766275</td>\n",
       "      <td>8090.766275</td>\n",
       "      <td>8090.766275</td>\n",
       "      <td>41595.55</td>\n",
       "    </tr>\n",
       "    <tr>\n",
       "      <th>3</th>\n",
       "      <td>2010-02-26</td>\n",
       "      <td>8090.766275</td>\n",
       "      <td>8090.766275</td>\n",
       "      <td>8090.766275</td>\n",
       "      <td>8090.766275</td>\n",
       "      <td>8090.766275</td>\n",
       "      <td>19403.54</td>\n",
       "    </tr>\n",
       "    <tr>\n",
       "      <th>4</th>\n",
       "      <td>2010-05-03</td>\n",
       "      <td>8090.766275</td>\n",
       "      <td>8090.766275</td>\n",
       "      <td>8090.766275</td>\n",
       "      <td>8090.766275</td>\n",
       "      <td>8090.766275</td>\n",
       "      <td>21827.90</td>\n",
       "    </tr>\n",
       "    <tr>\n",
       "      <th>...</th>\n",
       "      <td>...</td>\n",
       "      <td>...</td>\n",
       "      <td>...</td>\n",
       "      <td>...</td>\n",
       "      <td>...</td>\n",
       "      <td>...</td>\n",
       "      <td>...</td>\n",
       "    </tr>\n",
       "    <tr>\n",
       "      <th>138</th>\n",
       "      <td>2012-09-28</td>\n",
       "      <td>3666.270000</td>\n",
       "      <td>7.640000</td>\n",
       "      <td>1.650000</td>\n",
       "      <td>1417.960000</td>\n",
       "      <td>4744.280000</td>\n",
       "      <td>18947.81</td>\n",
       "    </tr>\n",
       "    <tr>\n",
       "      <th>139</th>\n",
       "      <td>2012-05-10</td>\n",
       "      <td>8077.890000</td>\n",
       "      <td>8090.766275</td>\n",
       "      <td>18.220000</td>\n",
       "      <td>3617.430000</td>\n",
       "      <td>3626.140000</td>\n",
       "      <td>21904.47</td>\n",
       "    </tr>\n",
       "    <tr>\n",
       "      <th>140</th>\n",
       "      <td>2012-12-10</td>\n",
       "      <td>2086.180000</td>\n",
       "      <td>8090.766275</td>\n",
       "      <td>8.110000</td>\n",
       "      <td>602.360000</td>\n",
       "      <td>5926.450000</td>\n",
       "      <td>22764.01</td>\n",
       "    </tr>\n",
       "    <tr>\n",
       "      <th>141</th>\n",
       "      <td>2012-10-19</td>\n",
       "      <td>950.330000</td>\n",
       "      <td>8090.766275</td>\n",
       "      <td>4.930000</td>\n",
       "      <td>80.250000</td>\n",
       "      <td>2312.850000</td>\n",
       "      <td>24185.27</td>\n",
       "    </tr>\n",
       "    <tr>\n",
       "      <th>142</th>\n",
       "      <td>2012-10-26</td>\n",
       "      <td>2585.850000</td>\n",
       "      <td>31.750000</td>\n",
       "      <td>6.000000</td>\n",
       "      <td>1057.160000</td>\n",
       "      <td>1305.010000</td>\n",
       "      <td>27390.81</td>\n",
       "    </tr>\n",
       "  </tbody>\n",
       "</table>\n",
       "<p>143 rows × 7 columns</p>\n",
       "</div>"
      ],
      "text/plain": [
       "          Date    MarkDown1    MarkDown2    MarkDown3    MarkDown4  \\\n",
       "0   2010-05-02  8090.766275  8090.766275  8090.766275  8090.766275   \n",
       "1   2010-12-02  8090.766275  8090.766275  8090.766275  8090.766275   \n",
       "2   2010-02-19  8090.766275  8090.766275  8090.766275  8090.766275   \n",
       "3   2010-02-26  8090.766275  8090.766275  8090.766275  8090.766275   \n",
       "4   2010-05-03  8090.766275  8090.766275  8090.766275  8090.766275   \n",
       "..         ...          ...          ...          ...          ...   \n",
       "138 2012-09-28  3666.270000     7.640000     1.650000  1417.960000   \n",
       "139 2012-05-10  8077.890000  8090.766275    18.220000  3617.430000   \n",
       "140 2012-12-10  2086.180000  8090.766275     8.110000   602.360000   \n",
       "141 2012-10-19   950.330000  8090.766275     4.930000    80.250000   \n",
       "142 2012-10-26  2585.850000    31.750000     6.000000  1057.160000   \n",
       "\n",
       "       MarkDown5  Weekly_Sales  \n",
       "0    8090.766275      24924.50  \n",
       "1    8090.766275      46039.49  \n",
       "2    8090.766275      41595.55  \n",
       "3    8090.766275      19403.54  \n",
       "4    8090.766275      21827.90  \n",
       "..           ...           ...  \n",
       "138  4744.280000      18947.81  \n",
       "139  3626.140000      21904.47  \n",
       "140  5926.450000      22764.01  \n",
       "141  2312.850000      24185.27  \n",
       "142  1305.010000      27390.81  \n",
       "\n",
       "[143 rows x 7 columns]"
      ]
     },
     "execution_count": 56,
     "metadata": {},
     "output_type": "execute_result"
    }
   ],
   "source": [
    "df_formatted"
   ]
  },
  {
   "cell_type": "code",
   "execution_count": 57,
   "id": "8d562624",
   "metadata": {
    "execution": {
     "iopub.execute_input": "2022-12-20T17:56:28.126995Z",
     "iopub.status.busy": "2022-12-20T17:56:28.126306Z",
     "iopub.status.idle": "2022-12-20T17:56:28.486015Z",
     "shell.execute_reply": "2022-12-20T17:56:28.485101Z"
    },
    "papermill": {
     "duration": 0.390261,
     "end_time": "2022-12-20T17:56:28.488653",
     "exception": false,
     "start_time": "2022-12-20T17:56:28.098392",
     "status": "completed"
    },
    "tags": []
   },
   "outputs": [
    {
     "name": "stderr",
     "output_type": "stream",
     "text": [
      "/opt/conda/lib/python3.7/site-packages/seaborn/_decorators.py:43: FutureWarning: Pass the following variables as keyword args: x, y. From version 0.12, the only valid positional argument will be `data`, and passing other arguments without an explicit keyword will result in an error or misinterpretation.\n",
      "  FutureWarning\n"
     ]
    },
    {
     "data": {
      "text/plain": [
       "<seaborn.axisgrid.FacetGrid at 0x7f7c8b284d90>"
      ]
     },
     "execution_count": 57,
     "metadata": {},
     "output_type": "execute_result"
    },
    {
     "data": {
      "image/png": "[encoded data removed]",
      "text/plain": [
       "<Figure size 360x360 with 1 Axes>"
      ]
     },
     "metadata": {
      "needs_background": "light"
     },
     "output_type": "display_data"
    }
   ],
   "source": [
    "sns.relplot(df_of_sale_and_markdowns['MarkDown1'],df_of_sale_and_markdowns['Weekly_Sales'],kind='line')"
   ]
  },
  {
   "cell_type": "markdown",
   "id": "9929b069",
   "metadata": {
    "papermill": {
     "duration": 0.025869,
     "end_time": "2022-12-20T17:56:28.541725",
     "exception": false,
     "start_time": "2022-12-20T17:56:28.515856",
     "status": "completed"
    },
    "tags": []
   },
   "source": [
    "Shows that due to markdow1 ,sale goes up , but in range 410 - 34577"
   ]
  },
  {
   "cell_type": "code",
   "execution_count": 58,
   "id": "2aa3146f",
   "metadata": {
    "execution": {
     "iopub.execute_input": "2022-12-20T17:56:28.596315Z",
     "iopub.status.busy": "2022-12-20T17:56:28.595571Z",
     "iopub.status.idle": "2022-12-20T17:56:28.605313Z",
     "shell.execute_reply": "2022-12-20T17:56:28.604218Z"
    },
    "papermill": {
     "duration": 0.046324,
     "end_time": "2022-12-20T17:56:28.614000",
     "exception": false,
     "start_time": "2022-12-20T17:56:28.567676",
     "status": "completed"
    },
    "tags": []
   },
   "outputs": [
    {
     "data": {
      "text/plain": [
       "(410.31, 34577.06)"
      ]
     },
     "execution_count": 58,
     "metadata": {},
     "output_type": "execute_result"
    }
   ],
   "source": [
    "df_of_sale_and_markdowns['MarkDown1'].min(),df_of_sale_and_markdowns['MarkDown1'].max()"
   ]
  },
  {
   "cell_type": "code",
   "execution_count": 59,
   "id": "0b018860",
   "metadata": {
    "execution": {
     "iopub.execute_input": "2022-12-20T17:56:28.685403Z",
     "iopub.status.busy": "2022-12-20T17:56:28.684411Z",
     "iopub.status.idle": "2022-12-20T17:56:28.690650Z",
     "shell.execute_reply": "2022-12-20T17:56:28.689392Z"
    },
    "papermill": {
     "duration": 0.050949,
     "end_time": "2022-12-20T17:56:28.693479",
     "exception": false,
     "start_time": "2022-12-20T17:56:28.642530",
     "status": "completed"
    },
    "tags": []
   },
   "outputs": [],
   "source": [
    "import seaborn as sns"
   ]
  },
  {
   "cell_type": "code",
   "execution_count": 60,
   "id": "1f580501",
   "metadata": {
    "execution": {
     "iopub.execute_input": "2022-12-20T17:56:28.749988Z",
     "iopub.status.busy": "2022-12-20T17:56:28.748953Z",
     "iopub.status.idle": "2022-12-20T17:56:29.176826Z",
     "shell.execute_reply": "2022-12-20T17:56:29.175201Z"
    },
    "papermill": {
     "duration": 0.459048,
     "end_time": "2022-12-20T17:56:29.179545",
     "exception": false,
     "start_time": "2022-12-20T17:56:28.720497",
     "status": "completed"
    },
    "tags": []
   },
   "outputs": [
    {
     "name": "stderr",
     "output_type": "stream",
     "text": [
      "/opt/conda/lib/python3.7/site-packages/seaborn/_decorators.py:43: FutureWarning: Pass the following variables as keyword args: x, y. From version 0.12, the only valid positional argument will be `data`, and passing other arguments without an explicit keyword will result in an error or misinterpretation.\n",
      "  FutureWarning\n"
     ]
    },
    {
     "data": {
      "text/plain": [
       "<seaborn.axisgrid.FacetGrid at 0x7f7c8b1274d0>"
      ]
     },
     "execution_count": 60,
     "metadata": {},
     "output_type": "execute_result"
    },
    {
     "data": {
      "image/png": "[encoded data removed]",
      "text/plain": [
       "<Figure size 360x360 with 1 Axes>"
      ]
     },
     "metadata": {
      "needs_background": "light"
     },
     "output_type": "display_data"
    }
   ],
   "source": [
    "sns.relplot(df_of_sale_and_markdowns['Date'],df_of_sale_and_markdowns['MarkDown1'],kind='line')"
   ]
  },
  {
   "cell_type": "code",
   "execution_count": 61,
   "id": "4a6ecd88",
   "metadata": {
    "execution": {
     "iopub.execute_input": "2022-12-20T17:56:29.242623Z",
     "iopub.status.busy": "2022-12-20T17:56:29.241685Z",
     "iopub.status.idle": "2022-12-20T17:56:29.669593Z",
     "shell.execute_reply": "2022-12-20T17:56:29.668245Z"
    },
    "papermill": {
     "duration": 0.464289,
     "end_time": "2022-12-20T17:56:29.672510",
     "exception": false,
     "start_time": "2022-12-20T17:56:29.208221",
     "status": "completed"
    },
    "tags": []
   },
   "outputs": [
    {
     "name": "stderr",
     "output_type": "stream",
     "text": [
      "/opt/conda/lib/python3.7/site-packages/seaborn/_decorators.py:43: FutureWarning: Pass the following variables as keyword args: x, y. From version 0.12, the only valid positional argument will be `data`, and passing other arguments without an explicit keyword will result in an error or misinterpretation.\n",
      "  FutureWarning\n"
     ]
    },
    {
     "data": {
      "text/plain": [
       "<seaborn.axisgrid.FacetGrid at 0x7f7c8b0a4190>"
      ]
     },
     "execution_count": 61,
     "metadata": {},
     "output_type": "execute_result"
    },
    {
     "data": {
      "image/png": "[encoded data removed]",
      "text/plain": [
       "<Figure size 360x360 with 1 Axes>"
      ]
     },
     "metadata": {
      "needs_background": "light"
     },
     "output_type": "display_data"
    }
   ],
   "source": [
    "sns.relplot(df_of_sale_and_markdowns['Date'],df_of_sale_and_markdowns['MarkDown2'],kind='line')"
   ]
  },
  {
   "cell_type": "code",
   "execution_count": 62,
   "id": "8020539c",
   "metadata": {
    "execution": {
     "iopub.execute_input": "2022-12-20T17:56:29.731272Z",
     "iopub.status.busy": "2022-12-20T17:56:29.730824Z",
     "iopub.status.idle": "2022-12-20T17:56:30.065729Z",
     "shell.execute_reply": "2022-12-20T17:56:30.064418Z"
    },
    "papermill": {
     "duration": 0.367545,
     "end_time": "2022-12-20T17:56:30.068617",
     "exception": false,
     "start_time": "2022-12-20T17:56:29.701072",
     "status": "completed"
    },
    "tags": []
   },
   "outputs": [
    {
     "name": "stderr",
     "output_type": "stream",
     "text": [
      "/opt/conda/lib/python3.7/site-packages/seaborn/_decorators.py:43: FutureWarning: Pass the following variables as keyword args: x, y. From version 0.12, the only valid positional argument will be `data`, and passing other arguments without an explicit keyword will result in an error or misinterpretation.\n",
      "  FutureWarning\n"
     ]
    },
    {
     "data": {
      "text/plain": [
       "<seaborn.axisgrid.FacetGrid at 0x7f7c8b0ad490>"
      ]
     },
     "execution_count": 62,
     "metadata": {},
     "output_type": "execute_result"
    },
    {
     "data": {
      "image/png": "[encoded data removed]",
      "text/plain": [
       "<Figure size 360x360 with 1 Axes>"
      ]
     },
     "metadata": {
      "needs_background": "light"
     },
     "output_type": "display_data"
    }
   ],
   "source": [
    "sns.relplot(df_of_sale_and_markdowns['MarkDown1'],df_of_sale_and_markdowns['Weekly_Sales'],kind='line')"
   ]
  },
  {
   "cell_type": "code",
   "execution_count": 63,
   "id": "2656decc",
   "metadata": {
    "execution": {
     "iopub.execute_input": "2022-12-20T17:56:30.127612Z",
     "iopub.status.busy": "2022-12-20T17:56:30.127172Z",
     "iopub.status.idle": "2022-12-20T17:56:30.509806Z",
     "shell.execute_reply": "2022-12-20T17:56:30.508599Z"
    },
    "papermill": {
     "duration": 0.415269,
     "end_time": "2022-12-20T17:56:30.512595",
     "exception": false,
     "start_time": "2022-12-20T17:56:30.097326",
     "status": "completed"
    },
    "tags": []
   },
   "outputs": [
    {
     "name": "stderr",
     "output_type": "stream",
     "text": [
      "/opt/conda/lib/python3.7/site-packages/seaborn/_decorators.py:43: FutureWarning: Pass the following variables as keyword args: x, y. From version 0.12, the only valid positional argument will be `data`, and passing other arguments without an explicit keyword will result in an error or misinterpretation.\n",
      "  FutureWarning\n"
     ]
    },
    {
     "data": {
      "text/plain": [
       "<seaborn.axisgrid.FacetGrid at 0x7f7c8af62fd0>"
      ]
     },
     "execution_count": 63,
     "metadata": {},
     "output_type": "execute_result"
    },
    {
     "data": {
      "image/png": "[encoded data removed]",
      "text/plain": [
       "<Figure size 360x360 with 1 Axes>"
      ]
     },
     "metadata": {
      "needs_background": "light"
     },
     "output_type": "display_data"
    }
   ],
   "source": [
    "sns.relplot(df_of_sale_and_markdowns['MarkDown2'],df_of_sale_and_markdowns['Weekly_Sales'],kind='line')"
   ]
  },
  {
   "cell_type": "code",
   "execution_count": 64,
   "id": "949b6618",
   "metadata": {
    "execution": {
     "iopub.execute_input": "2022-12-20T17:56:30.572784Z",
     "iopub.status.busy": "2022-12-20T17:56:30.572376Z",
     "iopub.status.idle": "2022-12-20T17:56:31.055418Z",
     "shell.execute_reply": "2022-12-20T17:56:31.054331Z"
    },
    "papermill": {
     "duration": 0.516453,
     "end_time": "2022-12-20T17:56:31.058059",
     "exception": false,
     "start_time": "2022-12-20T17:56:30.541606",
     "status": "completed"
    },
    "tags": []
   },
   "outputs": [
    {
     "name": "stderr",
     "output_type": "stream",
     "text": [
      "/opt/conda/lib/python3.7/site-packages/seaborn/_decorators.py:43: FutureWarning: Pass the following variables as keyword args: x, y. From version 0.12, the only valid positional argument will be `data`, and passing other arguments without an explicit keyword will result in an error or misinterpretation.\n",
      "  FutureWarning\n"
     ]
    },
    {
     "data": {
      "text/plain": [
       "<seaborn.axisgrid.FacetGrid at 0x7f7c8aee7710>"
      ]
     },
     "execution_count": 64,
     "metadata": {},
     "output_type": "execute_result"
    },
    {
     "data": {
      "image/png": "[encoded data removed]",
      "text/plain": [
       "<Figure size 360x360 with 1 Axes>"
      ]
     },
     "metadata": {
      "needs_background": "light"
     },
     "output_type": "display_data"
    }
   ],
   "source": [
    "sns.relplot(df_of_sale_and_markdowns['MarkDown4'],df_of_sale_and_markdowns['Weekly_Sales'],kind='line')"
   ]
  },
  {
   "cell_type": "code",
   "execution_count": 65,
   "id": "ac18630b",
   "metadata": {
    "execution": {
     "iopub.execute_input": "2022-12-20T17:56:31.118288Z",
     "iopub.status.busy": "2022-12-20T17:56:31.117827Z",
     "iopub.status.idle": "2022-12-20T17:56:31.462470Z",
     "shell.execute_reply": "2022-12-20T17:56:31.461101Z"
    },
    "papermill": {
     "duration": 0.377912,
     "end_time": "2022-12-20T17:56:31.465223",
     "exception": false,
     "start_time": "2022-12-20T17:56:31.087311",
     "status": "completed"
    },
    "tags": []
   },
   "outputs": [
    {
     "name": "stderr",
     "output_type": "stream",
     "text": [
      "/opt/conda/lib/python3.7/site-packages/seaborn/_decorators.py:43: FutureWarning: Pass the following variables as keyword args: x, y. From version 0.12, the only valid positional argument will be `data`, and passing other arguments without an explicit keyword will result in an error or misinterpretation.\n",
      "  FutureWarning\n"
     ]
    },
    {
     "data": {
      "text/plain": [
       "<seaborn.axisgrid.FacetGrid at 0x7f7c8aeb6f90>"
      ]
     },
     "execution_count": 65,
     "metadata": {},
     "output_type": "execute_result"
    },
    {
     "data": {
      "image/png": "[encoded data removed]",
      "text/plain": [
       "<Figure size 360x360 with 1 Axes>"
      ]
     },
     "metadata": {
      "needs_background": "light"
     },
     "output_type": "display_data"
    }
   ],
   "source": [
    "sns.relplot(df_of_sale_and_markdowns['MarkDown5'],df_of_sale_and_markdowns['Weekly_Sales'],kind='line')"
   ]
  }
 ],
 "metadata": {
  "kernelspec": {
   "display_name": "Python 3",
   "language": "python",
   "name": "python3"
  },
  "language_info": {
   "codemirror_mode": {
    "name": "ipython",
    "version": 3
   },
   "file_extension": ".py",
   "mimetype": "text/x-python",
   "name": "python",
   "nbconvert_exporter": "python",
   "pygments_lexer": "ipython3",
   "version": "3.7.12"
  },
  "papermill": {
   "default_parameters": {},
   "duration": 31.968829,
   "end_time": "2022-12-20T17:56:32.420066",
   "environment_variables": {},
   "exception": null,
   "input_path": "__notebook__.ipynb",
   "output_path": "__notebook__.ipynb",
   "parameters": {},
   "start_time": "2022-12-20T17:56:00.451237",
   "version": "2.3.4"
  }
 },
 "nbformat": 4,
 "nbformat_minor": 5
}
